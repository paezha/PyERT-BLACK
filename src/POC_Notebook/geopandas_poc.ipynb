{
 "cells": [
  {
   "cell_type": "code",
   "execution_count": 1,
   "id": "f05da32f",
   "metadata": {},
   "outputs": [],
   "source": [
    "import geopandas as gpd\n",
    "import pandas as pd\n",
    "import fiona\n",
    "import geojsonio as gjsio\n",
    "import os"
   ]
  },
  {
   "cell_type": "markdown",
   "id": "b4a40589",
   "metadata": {},
   "source": [
    "Use read_file function to read shapefile for GPS points/trajectory"
   ]
  },
  {
   "cell_type": "code",
   "execution_count": 2,
   "id": "f0142055",
   "metadata": {},
   "outputs": [
    {
     "name": "stdout",
     "output_type": "stream",
     "text": [
      "The number of GPS points: 121\n"
     ]
    }
   ],
   "source": [
    "# Script for countig the number of GPS points in a given GPS trajectory\n",
    "route = \"C:/University Grade4/4G06/gert_compiled_v4.3/map-matching_shared_v4.3/data/gps_trajectory/14640_20070403_17_colocated.shp\"\n",
    "traj_data = gpd.read_file(route)\n",
    "gpsPoints = traj_data.shape[0]\n",
    "print(\"The number of GPS points: %s\" % str(gpsPoints))"
   ]
  },
  {
   "cell_type": "code",
   "execution_count": 3,
   "id": "4dc2d00b",
   "metadata": {},
   "outputs": [
    {
     "data": {
      "text/html": [
       "<div>\n",
       "<style scoped>\n",
       "    .dataframe tbody tr th:only-of-type {\n",
       "        vertical-align: middle;\n",
       "    }\n",
       "\n",
       "    .dataframe tbody tr th {\n",
       "        vertical-align: top;\n",
       "    }\n",
       "\n",
       "    .dataframe thead th {\n",
       "        text-align: right;\n",
       "    }\n",
       "</style>\n",
       "<table border=\"1\" class=\"dataframe\">\n",
       "  <thead>\n",
       "    <tr style=\"text-align: right;\">\n",
       "      <th></th>\n",
       "      <th>EPISODEID</th>\n",
       "      <th>TRACKID</th>\n",
       "      <th>DURSEC</th>\n",
       "      <th>TIMESTART</th>\n",
       "      <th>ACTCODE</th>\n",
       "      <th>DESTCODE</th>\n",
       "      <th>geometry</th>\n",
       "    </tr>\n",
       "  </thead>\n",
       "  <tbody>\n",
       "    <tr>\n",
       "      <th>0</th>\n",
       "      <td>14640_20070403_17</td>\n",
       "      <td>15325184</td>\n",
       "      <td>11</td>\n",
       "      <td>12:34:13</td>\n",
       "      <td>car</td>\n",
       "      <td>car</td>\n",
       "      <td>POINT (-63.47435 44.64705)</td>\n",
       "    </tr>\n",
       "    <tr>\n",
       "      <th>1</th>\n",
       "      <td>14640_20070403_17</td>\n",
       "      <td>15325185</td>\n",
       "      <td>2</td>\n",
       "      <td>12:34:15</td>\n",
       "      <td>car</td>\n",
       "      <td>car</td>\n",
       "      <td>POINT (-63.47437 44.64705)</td>\n",
       "    </tr>\n",
       "    <tr>\n",
       "      <th>2</th>\n",
       "      <td>14640_20070403_17</td>\n",
       "      <td>15325187</td>\n",
       "      <td>5</td>\n",
       "      <td>12:34:20</td>\n",
       "      <td>car</td>\n",
       "      <td>car</td>\n",
       "      <td>POINT (-63.47437 44.64703)</td>\n",
       "    </tr>\n",
       "    <tr>\n",
       "      <th>3</th>\n",
       "      <td>14640_20070403_17</td>\n",
       "      <td>15325188</td>\n",
       "      <td>3</td>\n",
       "      <td>12:34:23</td>\n",
       "      <td>car</td>\n",
       "      <td>car</td>\n",
       "      <td>POINT (-63.47433 44.64699)</td>\n",
       "    </tr>\n",
       "    <tr>\n",
       "      <th>4</th>\n",
       "      <td>14640_20070403_17</td>\n",
       "      <td>15325189</td>\n",
       "      <td>2</td>\n",
       "      <td>12:34:25</td>\n",
       "      <td>car</td>\n",
       "      <td>car</td>\n",
       "      <td>POINT (-63.47432 44.64698)</td>\n",
       "    </tr>\n",
       "  </tbody>\n",
       "</table>\n",
       "</div>"
      ],
      "text/plain": [
       "           EPISODEID   TRACKID DURSEC TIMESTART ACTCODE DESTCODE  \\\n",
       "0  14640_20070403_17  15325184     11  12:34:13     car      car   \n",
       "1  14640_20070403_17  15325185      2  12:34:15     car      car   \n",
       "2  14640_20070403_17  15325187      5  12:34:20     car      car   \n",
       "3  14640_20070403_17  15325188      3  12:34:23     car      car   \n",
       "4  14640_20070403_17  15325189      2  12:34:25     car      car   \n",
       "\n",
       "                     geometry  \n",
       "0  POINT (-63.47435 44.64705)  \n",
       "1  POINT (-63.47437 44.64705)  \n",
       "2  POINT (-63.47437 44.64703)  \n",
       "3  POINT (-63.47433 44.64699)  \n",
       "4  POINT (-63.47432 44.64698)  "
      ]
     },
     "execution_count": 3,
     "metadata": {},
     "output_type": "execute_result"
    }
   ],
   "source": [
    "traj_data.head()"
   ]
  },
  {
   "cell_type": "code",
   "execution_count": 4,
   "id": "40b39f64",
   "metadata": {},
   "outputs": [
    {
     "data": {
      "text/plain": [
       "0      POINT (-63.47435 44.64705)\n",
       "1      POINT (-63.47437 44.64705)\n",
       "2      POINT (-63.47437 44.64703)\n",
       "3      POINT (-63.47433 44.64699)\n",
       "4      POINT (-63.47432 44.64698)\n",
       "                  ...            \n",
       "116    POINT (-63.47475 44.64708)\n",
       "117    POINT (-63.47464 44.64714)\n",
       "118    POINT (-63.47446 44.64717)\n",
       "119    POINT (-63.47445 44.64713)\n",
       "120    POINT (-63.47435 44.64705)\n",
       "Name: geometry, Length: 121, dtype: geometry"
      ]
     },
     "execution_count": 4,
     "metadata": {},
     "output_type": "execute_result"
    }
   ],
   "source": [
    "traj_data['geometry']"
   ]
  },
  {
   "cell_type": "markdown",
   "id": "56abe0a0",
   "metadata": {},
   "source": [
    "Use geom_type attribute to check the geometry type (POINT, LINESTRING, MULTILINESTRING or etc.) of the geometry value"
   ]
  },
  {
   "cell_type": "code",
   "execution_count": 5,
   "id": "bf97cc53",
   "metadata": {},
   "outputs": [
    {
     "name": "stdout",
     "output_type": "stream",
     "text": [
      "POINT (-63.47434997 44.64704513)\n"
     ]
    },
    {
     "data": {
      "text/plain": [
       "'Point'"
      ]
     },
     "execution_count": 5,
     "metadata": {},
     "output_type": "execute_result"
    }
   ],
   "source": [
    "print(traj_data['geometry'][0])\n",
    "traj_data['geometry'][0].geom_type"
   ]
  },
  {
   "cell_type": "code",
   "execution_count": 6,
   "id": "1aeec648",
   "metadata": {},
   "outputs": [
    {
     "data": {
      "text/plain": [
       "<AxesSubplot:>"
      ]
     },
     "execution_count": 6,
     "metadata": {},
     "output_type": "execute_result"
    },
    {
     "data": {
      "image/png": "[encoded data removed]",
      "text/plain": [
       "<Figure size 640x480 with 1 Axes>"
      ]
     },
     "metadata": {},
     "output_type": "display_data"
    }
   ],
   "source": [
    "traj_data.plot()"
   ]
  },
  {
   "cell_type": "code",
   "execution_count": 7,
   "id": "2a027a0f",
   "metadata": {},
   "outputs": [
    {
     "data": {
      "text/plain": [
       "<Geographic 2D CRS: EPSG:4269>\n",
       "Name: NAD83\n",
       "Axis Info [ellipsoidal]:\n",
       "- Lat[north]: Geodetic latitude (degree)\n",
       "- Lon[east]: Geodetic longitude (degree)\n",
       "Area of Use:\n",
       "- name: North America - NAD83\n",
       "- bounds: (167.65, 14.92, -47.74, 86.46)\n",
       "Datum: North American Datum 1983\n",
       "- Ellipsoid: GRS 1980\n",
       "- Prime Meridian: Greenwich"
      ]
     },
     "execution_count": 7,
     "metadata": {},
     "output_type": "execute_result"
    }
   ],
   "source": [
    "traj_data.crs"
   ]
  },
  {
   "cell_type": "markdown",
   "id": "dc6426a0",
   "metadata": {},
   "source": [
    "We can use fiona to open geodatabase (.gdb) file"
   ]
  },
  {
   "cell_type": "code",
   "execution_count": 8,
   "id": "1a2499a8",
   "metadata": {},
   "outputs": [
    {
     "name": "stdout",
     "output_type": "stream",
     "text": [
      "Driver\n",
      "OpenFileGDB\n",
      "Schema\n",
      "{'properties': OrderedDict([('FULL_NAME', 'str:64'), ('L_F_ADD', 'float'), ('L_T_ADD', 'float'), ('R_F_ADD', 'float'), ('R_T_ADD', 'float'), ('PREFIX', 'str:2'), ('PRE_TYPE', 'str:10'), ('NAME', 'str:40'), ('TYPE', 'str:10'), ('SUFFIX', 'str:2'), ('CARTO', 'float'), ('CITYL', 'str:68'), ('LEFT_MAF', 'str:70'), ('ZIPL', 'str:3'), ('STATE_ABBR', 'str:2'), ('ONEWAY', 'str:2'), ('ON_RAMP', 'int'), ('OFF_RAMP', 'int'), ('EXIT_NUM', 'str:30'), ('EXIT_DIR', 'str:2'), ('FERRY_TYPE', 'str:68'), ('ROAD_DIR', 'str:2'), ('FNODE', 'float'), ('TNODE', 'float'), ('SPD_MI', 'float'), ('RDLEN_MI', 'float'), ('SPD_KM', 'float'), ('RDLEN_M', 'float'), ('FT_MINUTES', 'float'), ('TF_MINUTES', 'float'), ('F_ZLEV', 'int'), ('T_ZLEV', 'int'), ('SHAPEID', 'float'), ('USERID', 'float'), ('CFCC', 'str:3'), ('DISP_CODE', 'float'), ('RECORD_', 'float'), ('FJUNCTION', 'float'), ('TJUNCTION', 'float'), ('ALIAS_NAME', 'str:69'), ('FORMERNAME', 'str:69'), ('HWY_NAME', 'str:50'), ('HWY_NUM', 'str:15'), ('TRANSCDAHWY', 'int'), ('YELOWHDHWY', 'int'), ('Shape_Length', 'float')]), 'geometry': 'MultiLineString'}\n",
      "CRS\n",
      "{'init': 'epsg:4269'}\n",
      "Length\n",
      "189\n",
      "Features\n"
     ]
    }
   ],
   "source": [
    "gdb = fiona.open(\"C:/University Grade4/4G06/gert_compiled_v4.3/temp_workspace/data/network_dataset/CAN_GD.gdb\")\n",
    "print('Driver')\n",
    "print(gdb.driver)\n",
    "print('Schema')\n",
    "print(gdb.schema)\n",
    "print('CRS')\n",
    "print(gdb.crs)\n",
    "print('Length')\n",
    "print(len(gdb))\n",
    "print('Features')\n",
    "#for feature in gdb:\n",
    "#    print(feature)\n",
    "#    print()"
   ]
  },
  {
   "cell_type": "markdown",
   "id": "53c48f73",
   "metadata": {},
   "source": [
    "Or open geodatabase directly with geopandas to create a geodataframe"
   ]
  },
  {
   "cell_type": "code",
   "execution_count": 9,
   "id": "ac52012e",
   "metadata": {},
   "outputs": [
    {
     "data": {
      "text/plain": [
       "189"
      ]
     },
     "execution_count": 9,
     "metadata": {},
     "output_type": "execute_result"
    }
   ],
   "source": [
    "gdb_df = gpd.read_file(\"C:/University Grade4/4G06/gert_compiled_v4.3/temp_workspace/data/network_dataset/CAN_GD.gdb\")\n",
    "len(gdb_df)"
   ]
  },
  {
   "cell_type": "code",
   "execution_count": 10,
   "id": "ecd78547",
   "metadata": {
    "scrolled": false
   },
   "outputs": [
    {
     "data": {
      "text/html": [
       "<div>\n",
       "<style scoped>\n",
       "    .dataframe tbody tr th:only-of-type {\n",
       "        vertical-align: middle;\n",
       "    }\n",
       "\n",
       "    .dataframe tbody tr th {\n",
       "        vertical-align: top;\n",
       "    }\n",
       "\n",
       "    .dataframe thead th {\n",
       "        text-align: right;\n",
       "    }\n",
       "</style>\n",
       "<table border=\"1\" class=\"dataframe\">\n",
       "  <thead>\n",
       "    <tr style=\"text-align: right;\">\n",
       "      <th></th>\n",
       "      <th>FULL_NAME</th>\n",
       "      <th>L_F_ADD</th>\n",
       "      <th>L_T_ADD</th>\n",
       "      <th>R_F_ADD</th>\n",
       "      <th>R_T_ADD</th>\n",
       "      <th>PREFIX</th>\n",
       "      <th>PRE_TYPE</th>\n",
       "      <th>NAME</th>\n",
       "      <th>TYPE</th>\n",
       "      <th>SUFFIX</th>\n",
       "      <th>...</th>\n",
       "      <th>FJUNCTION</th>\n",
       "      <th>TJUNCTION</th>\n",
       "      <th>ALIAS_NAME</th>\n",
       "      <th>FORMERNAME</th>\n",
       "      <th>HWY_NAME</th>\n",
       "      <th>HWY_NUM</th>\n",
       "      <th>TRANSCDAHWY</th>\n",
       "      <th>YELOWHDHWY</th>\n",
       "      <th>Shape_Length</th>\n",
       "      <th>geometry</th>\n",
       "    </tr>\n",
       "  </thead>\n",
       "  <tbody>\n",
       "    <tr>\n",
       "      <th>0</th>\n",
       "      <td>MORRIS LAKE DR</td>\n",
       "      <td>0.0</td>\n",
       "      <td>0.0</td>\n",
       "      <td>0.0</td>\n",
       "      <td>0.0</td>\n",
       "      <td></td>\n",
       "      <td></td>\n",
       "      <td>MORRIS LAKE</td>\n",
       "      <td>DR</td>\n",
       "      <td></td>\n",
       "      <td>...</td>\n",
       "      <td>2026002.0</td>\n",
       "      <td>2025998.0</td>\n",
       "      <td>None</td>\n",
       "      <td>None</td>\n",
       "      <td>None</td>\n",
       "      <td>None</td>\n",
       "      <td>NaN</td>\n",
       "      <td>NaN</td>\n",
       "      <td>0.000047</td>\n",
       "      <td>MULTILINESTRING ((-63.48889 44.65367, -63.4889...</td>\n",
       "    </tr>\n",
       "    <tr>\n",
       "      <th>1</th>\n",
       "      <td>NOVA TERR</td>\n",
       "      <td>84.0</td>\n",
       "      <td>94.0</td>\n",
       "      <td>91.0</td>\n",
       "      <td>93.0</td>\n",
       "      <td></td>\n",
       "      <td></td>\n",
       "      <td>NOVA</td>\n",
       "      <td>TERR</td>\n",
       "      <td></td>\n",
       "      <td>...</td>\n",
       "      <td>2026151.0</td>\n",
       "      <td>2026205.0</td>\n",
       "      <td>None</td>\n",
       "      <td>None</td>\n",
       "      <td>None</td>\n",
       "      <td>None</td>\n",
       "      <td>NaN</td>\n",
       "      <td>NaN</td>\n",
       "      <td>0.000824</td>\n",
       "      <td>MULTILINESTRING ((-63.48590 44.65932, -63.4851...</td>\n",
       "    </tr>\n",
       "    <tr>\n",
       "      <th>2</th>\n",
       "      <td>GRENADIER DR</td>\n",
       "      <td>70.0</td>\n",
       "      <td>88.0</td>\n",
       "      <td>0.0</td>\n",
       "      <td>0.0</td>\n",
       "      <td></td>\n",
       "      <td></td>\n",
       "      <td>GRENADIER</td>\n",
       "      <td>DR</td>\n",
       "      <td></td>\n",
       "      <td>...</td>\n",
       "      <td>2026390.0</td>\n",
       "      <td>2026319.0</td>\n",
       "      <td>None</td>\n",
       "      <td>None</td>\n",
       "      <td>None</td>\n",
       "      <td>None</td>\n",
       "      <td>NaN</td>\n",
       "      <td>NaN</td>\n",
       "      <td>0.001486</td>\n",
       "      <td>MULTILINESTRING ((-63.48154 44.65803, -63.4829...</td>\n",
       "    </tr>\n",
       "    <tr>\n",
       "      <th>3</th>\n",
       "      <td>MILLBROOK AVE</td>\n",
       "      <td>0.0</td>\n",
       "      <td>0.0</td>\n",
       "      <td>0.0</td>\n",
       "      <td>0.0</td>\n",
       "      <td></td>\n",
       "      <td></td>\n",
       "      <td>MILLBROOK</td>\n",
       "      <td>AVE</td>\n",
       "      <td></td>\n",
       "      <td>...</td>\n",
       "      <td>2026354.0</td>\n",
       "      <td>2026375.0</td>\n",
       "      <td>None</td>\n",
       "      <td>None</td>\n",
       "      <td>None</td>\n",
       "      <td>None</td>\n",
       "      <td>NaN</td>\n",
       "      <td>NaN</td>\n",
       "      <td>0.000459</td>\n",
       "      <td>MULTILINESTRING ((-63.48236 44.65135, -63.4822...</td>\n",
       "    </tr>\n",
       "    <tr>\n",
       "      <th>4</th>\n",
       "      <td>ROWAN CRT</td>\n",
       "      <td>0.0</td>\n",
       "      <td>0.0</td>\n",
       "      <td>0.0</td>\n",
       "      <td>0.0</td>\n",
       "      <td></td>\n",
       "      <td></td>\n",
       "      <td>ROWAN</td>\n",
       "      <td>CRT</td>\n",
       "      <td></td>\n",
       "      <td>...</td>\n",
       "      <td>2026198.0</td>\n",
       "      <td>2026198.0</td>\n",
       "      <td>None</td>\n",
       "      <td>None</td>\n",
       "      <td>None</td>\n",
       "      <td>None</td>\n",
       "      <td>NaN</td>\n",
       "      <td>NaN</td>\n",
       "      <td>0.000654</td>\n",
       "      <td>MULTILINESTRING ((-63.48522 44.65248, -63.4852...</td>\n",
       "    </tr>\n",
       "  </tbody>\n",
       "</table>\n",
       "<p>5 rows × 47 columns</p>\n",
       "</div>"
      ],
      "text/plain": [
       "        FULL_NAME  L_F_ADD  L_T_ADD  R_F_ADD  R_T_ADD PREFIX PRE_TYPE  \\\n",
       "0  MORRIS LAKE DR      0.0      0.0      0.0      0.0                   \n",
       "1       NOVA TERR     84.0     94.0     91.0     93.0                   \n",
       "2    GRENADIER DR     70.0     88.0      0.0      0.0                   \n",
       "3   MILLBROOK AVE      0.0      0.0      0.0      0.0                   \n",
       "4       ROWAN CRT      0.0      0.0      0.0      0.0                   \n",
       "\n",
       "          NAME  TYPE SUFFIX  ...  FJUNCTION  TJUNCTION ALIAS_NAME FORMERNAME  \\\n",
       "0  MORRIS LAKE    DR         ...  2026002.0  2025998.0       None       None   \n",
       "1         NOVA  TERR         ...  2026151.0  2026205.0       None       None   \n",
       "2    GRENADIER    DR         ...  2026390.0  2026319.0       None       None   \n",
       "3    MILLBROOK   AVE         ...  2026354.0  2026375.0       None       None   \n",
       "4        ROWAN   CRT         ...  2026198.0  2026198.0       None       None   \n",
       "\n",
       "  HWY_NAME HWY_NUM  TRANSCDAHWY  YELOWHDHWY Shape_Length  \\\n",
       "0     None    None          NaN         NaN     0.000047   \n",
       "1     None    None          NaN         NaN     0.000824   \n",
       "2     None    None          NaN         NaN     0.001486   \n",
       "3     None    None          NaN         NaN     0.000459   \n",
       "4     None    None          NaN         NaN     0.000654   \n",
       "\n",
       "                                            geometry  \n",
       "0  MULTILINESTRING ((-63.48889 44.65367, -63.4889...  \n",
       "1  MULTILINESTRING ((-63.48590 44.65932, -63.4851...  \n",
       "2  MULTILINESTRING ((-63.48154 44.65803, -63.4829...  \n",
       "3  MULTILINESTRING ((-63.48236 44.65135, -63.4822...  \n",
       "4  MULTILINESTRING ((-63.48522 44.65248, -63.4852...  \n",
       "\n",
       "[5 rows x 47 columns]"
      ]
     },
     "execution_count": 10,
     "metadata": {},
     "output_type": "execute_result"
    }
   ],
   "source": [
    "gdb_df.head()"
   ]
  },
  {
   "cell_type": "code",
   "execution_count": 11,
   "id": "9f38e219",
   "metadata": {
    "scrolled": true
   },
   "outputs": [
    {
     "data": {
      "text/plain": [
       "FULL_NAME         object\n",
       "L_F_ADD          float64\n",
       "L_T_ADD          float64\n",
       "R_F_ADD          float64\n",
       "R_T_ADD          float64\n",
       "PREFIX            object\n",
       "PRE_TYPE          object\n",
       "NAME              object\n",
       "TYPE              object\n",
       "SUFFIX            object\n",
       "CARTO            float64\n",
       "CITYL             object\n",
       "LEFT_MAF          object\n",
       "ZIPL              object\n",
       "STATE_ABBR        object\n",
       "ONEWAY            object\n",
       "ON_RAMP            int64\n",
       "OFF_RAMP           int64\n",
       "EXIT_NUM          object\n",
       "EXIT_DIR          object\n",
       "FERRY_TYPE        object\n",
       "ROAD_DIR          object\n",
       "FNODE            float64\n",
       "TNODE            float64\n",
       "SPD_MI           float64\n",
       "RDLEN_MI         float64\n",
       "SPD_KM           float64\n",
       "RDLEN_M          float64\n",
       "FT_MINUTES       float64\n",
       "TF_MINUTES       float64\n",
       "F_ZLEV             int64\n",
       "T_ZLEV             int64\n",
       "SHAPEID          float64\n",
       "USERID           float64\n",
       "CFCC              object\n",
       "DISP_CODE        float64\n",
       "RECORD_          float64\n",
       "FJUNCTION        float64\n",
       "TJUNCTION        float64\n",
       "ALIAS_NAME        object\n",
       "FORMERNAME        object\n",
       "HWY_NAME          object\n",
       "HWY_NUM           object\n",
       "TRANSCDAHWY      float64\n",
       "YELOWHDHWY       float64\n",
       "Shape_Length     float64\n",
       "geometry        geometry\n",
       "dtype: object"
      ]
     },
     "execution_count": 11,
     "metadata": {},
     "output_type": "execute_result"
    }
   ],
   "source": [
    "gdb_df.dtypes"
   ]
  },
  {
   "cell_type": "code",
   "execution_count": 12,
   "id": "6dbd4779",
   "metadata": {},
   "outputs": [
    {
     "data": {
      "text/plain": [
       "0      True\n",
       "1      True\n",
       "2      True\n",
       "3      True\n",
       "4      True\n",
       "       ... \n",
       "184    True\n",
       "185    True\n",
       "186    True\n",
       "187    True\n",
       "188    True\n",
       "Name: ONEWAY, Length: 189, dtype: bool"
      ]
     },
     "execution_count": 12,
     "metadata": {},
     "output_type": "execute_result"
    }
   ],
   "source": [
    "gdb_df['ONEWAY'] == ' '"
   ]
  },
  {
   "cell_type": "code",
   "execution_count": 13,
   "id": "5acc1e66",
   "metadata": {},
   "outputs": [
    {
     "data": {
      "text/plain": [
       "'MULTILINESTRING ((-63.4888949999999 44.65367200000009, -63.48894199999995 44.65367200000009))'"
      ]
     },
     "execution_count": 13,
     "metadata": {},
     "output_type": "execute_result"
    }
   ],
   "source": [
    "str(gdb_df['geometry'].iloc[0])"
   ]
  },
  {
   "cell_type": "code",
   "execution_count": 14,
   "id": "1bba1d0b",
   "metadata": {},
   "outputs": [
    {
     "data": {
      "text/plain": [
       "189"
      ]
     },
     "execution_count": 14,
     "metadata": {},
     "output_type": "execute_result"
    }
   ],
   "source": [
    "len(gdb_df[gdb_df.geom_type == 'MultiLineString'])"
   ]
  },
  {
   "cell_type": "code",
   "execution_count": 15,
   "id": "8d8fc7a9",
   "metadata": {},
   "outputs": [
    {
     "data": {
      "text/plain": [
       "<AxesSubplot:>"
      ]
     },
     "execution_count": 15,
     "metadata": {},
     "output_type": "execute_result"
    },
    {
     "data": {
      "image/png": "[encoded data removed]",
      "text/plain": [
       "<Figure size 640x480 with 1 Axes>"
      ]
     },
     "metadata": {},
     "output_type": "display_data"
    }
   ],
   "source": [
    "gdb_df.plot()"
   ]
  },
  {
   "cell_type": "markdown",
   "id": "b219a988",
   "metadata": {},
   "source": [
    "We can set and project a Coordinate Reference System (CRS) with EPSG number to adjust the scale of the plot for the trajectory data"
   ]
  },
  {
   "cell_type": "code",
   "execution_count": 16,
   "id": "b13c6677",
   "metadata": {},
   "outputs": [
    {
     "name": "stdout",
     "output_type": "stream",
     "text": [
      "{'init': 'epsg:26920', 'no_defs': True}\n"
     ]
    },
    {
     "data": {
      "text/plain": [
       "<Projected CRS: EPSG:26920>\n",
       "Name: NAD83 / UTM zone 20N\n",
       "Axis Info [cartesian]:\n",
       "- E[east]: Easting (metre)\n",
       "- N[north]: Northing (metre)\n",
       "Area of Use:\n",
       "- name: North America - 66°W to 60°W and NAD83 by country\n",
       "- bounds: (-66.0, 15.63, -60.0, 84.0)\n",
       "Coordinate Operation:\n",
       "- name: UTM zone 20N\n",
       "- method: Transverse Mercator\n",
       "Datum: North American Datum 1983\n",
       "- Ellipsoid: GRS 1980\n",
       "- Prime Meridian: Greenwich"
      ]
     },
     "execution_count": 16,
     "metadata": {},
     "output_type": "execute_result"
    },
    {
     "data": {
      "image/png": "[encoded data removed]",
      "text/plain": [
       "<Figure size 640x480 with 1 Axes>"
      ]
     },
     "metadata": {},
     "output_type": "display_data"
    }
   ],
   "source": [
    "# Import specific function 'from_epsg' from fiona module\n",
    "from fiona.crs import from_epsg\n",
    "\n",
    "print(from_epsg(26920))\n",
    "#traj_data.crs = from_epsg(26920)\n",
    "traj_data_crs = traj_data.to_crs('EPSG:26920')\n",
    "\n",
    "traj_data_crs.plot()\n",
    "traj_data_crs.crs"
   ]
  },
  {
   "cell_type": "code",
   "execution_count": 17,
   "id": "0013a6b5",
   "metadata": {},
   "outputs": [
    {
     "data": {
      "text/plain": [
       "<Geographic 2D CRS: EPSG:4269>\n",
       "Name: NAD83\n",
       "Axis Info [ellipsoidal]:\n",
       "- Lat[north]: Geodetic latitude (degree)\n",
       "- Lon[east]: Geodetic longitude (degree)\n",
       "Area of Use:\n",
       "- name: North America - NAD83\n",
       "- bounds: (167.65, 14.92, -47.74, 86.46)\n",
       "Datum: North American Datum 1983\n",
       "- Ellipsoid: GRS 1980\n",
       "- Prime Meridian: Greenwich"
      ]
     },
     "execution_count": 17,
     "metadata": {},
     "output_type": "execute_result"
    }
   ],
   "source": [
    "traj_data.crs"
   ]
  },
  {
   "cell_type": "markdown",
   "id": "02166f81",
   "metadata": {},
   "source": [
    "Using to_file method to output the geodataframe as a shapefile (.shp) or other types of file if needed"
   ]
  },
  {
   "cell_type": "code",
   "execution_count": 18,
   "id": "6cb8d8d4",
   "metadata": {},
   "outputs": [],
   "source": [
    "traj_data_crs.to_file(\"./traj_with_crs.shp\")"
   ]
  },
  {
   "cell_type": "code",
   "execution_count": 19,
   "id": "c01e2399",
   "metadata": {},
   "outputs": [],
   "source": [
    "traj_data_crs = gpd.read_file(\"./traj_with_crs.shp\")"
   ]
  },
  {
   "cell_type": "code",
   "execution_count": 20,
   "id": "2676620a",
   "metadata": {},
   "outputs": [
    {
     "data": {
      "text/html": [
       "<div>\n",
       "<style scoped>\n",
       "    .dataframe tbody tr th:only-of-type {\n",
       "        vertical-align: middle;\n",
       "    }\n",
       "\n",
       "    .dataframe tbody tr th {\n",
       "        vertical-align: top;\n",
       "    }\n",
       "\n",
       "    .dataframe thead th {\n",
       "        text-align: right;\n",
       "    }\n",
       "</style>\n",
       "<table border=\"1\" class=\"dataframe\">\n",
       "  <thead>\n",
       "    <tr style=\"text-align: right;\">\n",
       "      <th></th>\n",
       "      <th>EPISODEID</th>\n",
       "      <th>TRACKID</th>\n",
       "      <th>DURSEC</th>\n",
       "      <th>TIMESTART</th>\n",
       "      <th>ACTCODE</th>\n",
       "      <th>DESTCODE</th>\n",
       "      <th>geometry</th>\n",
       "    </tr>\n",
       "  </thead>\n",
       "  <tbody>\n",
       "    <tr>\n",
       "      <th>0</th>\n",
       "      <td>14640_20070403_17</td>\n",
       "      <td>15325184</td>\n",
       "      <td>11</td>\n",
       "      <td>12:34:13</td>\n",
       "      <td>car</td>\n",
       "      <td>car</td>\n",
       "      <td>POINT (462385.143 4943852.226)</td>\n",
       "    </tr>\n",
       "    <tr>\n",
       "      <th>1</th>\n",
       "      <td>14640_20070403_17</td>\n",
       "      <td>15325185</td>\n",
       "      <td>2</td>\n",
       "      <td>12:34:15</td>\n",
       "      <td>car</td>\n",
       "      <td>car</td>\n",
       "      <td>POINT (462383.933 4943852.233)</td>\n",
       "    </tr>\n",
       "    <tr>\n",
       "      <th>2</th>\n",
       "      <td>14640_20070403_17</td>\n",
       "      <td>15325187</td>\n",
       "      <td>5</td>\n",
       "      <td>12:34:20</td>\n",
       "      <td>car</td>\n",
       "      <td>car</td>\n",
       "      <td>POINT (462383.923 4943850.538)</td>\n",
       "    </tr>\n",
       "    <tr>\n",
       "      <th>3</th>\n",
       "      <td>14640_20070403_17</td>\n",
       "      <td>15325188</td>\n",
       "      <td>3</td>\n",
       "      <td>12:34:23</td>\n",
       "      <td>car</td>\n",
       "      <td>car</td>\n",
       "      <td>POINT (462386.924 4943846.283)</td>\n",
       "    </tr>\n",
       "    <tr>\n",
       "      <th>4</th>\n",
       "      <td>14640_20070403_17</td>\n",
       "      <td>15325189</td>\n",
       "      <td>2</td>\n",
       "      <td>12:34:25</td>\n",
       "      <td>car</td>\n",
       "      <td>car</td>\n",
       "      <td>POINT (462387.524 4943845.433)</td>\n",
       "    </tr>\n",
       "  </tbody>\n",
       "</table>\n",
       "</div>"
      ],
      "text/plain": [
       "           EPISODEID   TRACKID DURSEC TIMESTART ACTCODE DESTCODE  \\\n",
       "0  14640_20070403_17  15325184     11  12:34:13     car      car   \n",
       "1  14640_20070403_17  15325185      2  12:34:15     car      car   \n",
       "2  14640_20070403_17  15325187      5  12:34:20     car      car   \n",
       "3  14640_20070403_17  15325188      3  12:34:23     car      car   \n",
       "4  14640_20070403_17  15325189      2  12:34:25     car      car   \n",
       "\n",
       "                         geometry  \n",
       "0  POINT (462385.143 4943852.226)  \n",
       "1  POINT (462383.933 4943852.233)  \n",
       "2  POINT (462383.923 4943850.538)  \n",
       "3  POINT (462386.924 4943846.283)  \n",
       "4  POINT (462387.524 4943845.433)  "
      ]
     },
     "execution_count": 20,
     "metadata": {},
     "output_type": "execute_result"
    }
   ],
   "source": [
    "traj_data_crs.head()"
   ]
  },
  {
   "cell_type": "code",
   "execution_count": 21,
   "id": "df2da87b",
   "metadata": {},
   "outputs": [
    {
     "data": {
      "text/plain": [
       "<AxesSubplot:>"
      ]
     },
     "execution_count": 21,
     "metadata": {},
     "output_type": "execute_result"
    },
    {
     "data": {
      "image/png": "[encoded data removed]",
      "text/plain": [
       "<Figure size 640x480 with 1 Axes>"
      ]
     },
     "metadata": {},
     "output_type": "display_data"
    }
   ],
   "source": [
    "traj_data_crs.plot()"
   ]
  },
  {
   "cell_type": "markdown",
   "id": "59fc9c1d",
   "metadata": {},
   "source": [
    "With a geodataframe that is projected to the Projected CRS, we can calculate the length of the trajectory by the following approach"
   ]
  },
  {
   "cell_type": "code",
   "execution_count": 22,
   "id": "afbdbbc6",
   "metadata": {},
   "outputs": [
    {
     "name": "stdout",
     "output_type": "stream",
     "text": [
      "Original length of the GPS trajectory is: 3221.49m\n"
     ]
    }
   ],
   "source": [
    "shifted_df = traj_data_crs.shift()\n",
    "traj_len = traj_data_crs.distance(shifted_df)[1:].sum()\n",
    "print(\"Original length of the GPS trajectory is: \" + str(round(traj_len,2)) + \"m\")"
   ]
  },
  {
   "cell_type": "markdown",
   "id": "f8ff7368",
   "metadata": {},
   "source": [
    "Transfer the geopandas dataframe to geojson format then to json string and use geojsonio package to display the GPS points"
   ]
  },
  {
   "cell_type": "code",
   "execution_count": 23,
   "id": "9ad043b1",
   "metadata": {},
   "outputs": [],
   "source": [
    "traj_data_crs.to_file('traj_with_crs.geojson', driver='GeoJSON')"
   ]
  },
  {
   "cell_type": "code",
   "execution_count": 24,
   "id": "fce61b32",
   "metadata": {},
   "outputs": [],
   "source": [
    "#print(gdb_df.to_json())"
   ]
  },
  {
   "cell_type": "code",
   "execution_count": 25,
   "id": "fecd4d04",
   "metadata": {
    "scrolled": true
   },
   "outputs": [
    {
     "name": "stdout",
     "output_type": "stream",
     "text": [
      "http://geojson.io/#data=data:application/json,%7B%22type%22%3A%20%22FeatureCollection%22%2C%20%22features%22%3A%20%5B%7B%22id%22%3A%20%220%22%2C%20%22type%22%3A%20%22Feature%22%2C%20%22properties%22%3A%20%7B%22ALIAS_NAME%22%3A%20null%2C%20%22CARTO%22%3A%205.0%2C%20%22CFCC%22%3A%20%22A40%22%2C%20%22CITYL%22%3A%20%22HALIFAX%22%2C%20%22DISP_CODE%22%3A%2040.0%2C%20%22EXIT_DIR%22%3A%20%22%20%22%2C%20%22EXIT_NUM%22%3A%20%22%20%22%2C%20%22FERRY_TYPE%22%3A%20%22%20%22%2C%20%22FJUNCTION%22%3A%202026002.0%2C%20%22FNODE%22%3A%201542668.0%2C%20%22FORMERNAME%22%3A%20null%2C%20%22FT_MINUTES%22%3A%200.004%2C%20%22FULL_NAME%22%3A%20%22MORRIS%20LAKE%20DR%22%2C%20%22F_ZLEV%22%3A%200%2C%20%22HWY_NAME%22%3A%20null%2C%20%22HWY_NUM%22%3A%20null%2C%20%22LEFT_MAF%22%3A%20%22HALIFAX%22%2C%20%22L_F_ADD%22%3A%200.0%2C%20%22L_T_ADD%22%3A%200.0%2C%20%22NAME%22%3A%20%22MORRIS%20LAKE%22%2C%20%22OFF_RAMP%22%3A%200%2C%20%22ONEWAY%22%3A%20%22%20%22%2C%20%22ON_RAMP%22%3A%200%2C%20%22PREFIX%22%3A%20%22%20%22%2C%20%22PRE_TYPE%22%3A%20%22%20%22%2C%20%22RDLEN_M%22%3A%203.718%2C%20%22RDLEN_MI%22%3A%200.002%2C%20%22RECORD_%22%3A%201966241.0%2C%20%22ROAD_DIR%22%3A%20%22FT%22%2C%20%22R_F_ADD%22%3A%200.0%2C%20%22R_T_ADD%22%3A%200.0%2C%20%22SHAPEID%22%3A%206354920.0%2C%20%22SPD_KM%22%3A%2050.0%2C%20%22SPD_MI%22%3A%2030.0%2C%20%22STATE_ABBR%22%3A%20%22NS%22%2C%20%22SUFFIX%22%3A%20%22%20%22%2C%20%22Shape_Length%22%3A%204.7000000051866664e-05%2C%20%22TF_MINUTES%22%3A%200.004%2C%20%22TJUNCTION%22%3A%202025998.0%2C%20%22TNODE%22%3A%201537873.0%2C%20%22TRANSCDAHWY%22%3A%20null%2C%20%22TYPE%22%3A%20%22DR%22%2C%20%22T_ZLEV%22%3A%200%2C%20%22USERID%22%3A%206354920.0%2C%20%22YELOWHDHWY%22%3A%20null%2C%20%22ZIPL%22%3A%20%22B2V%22%7D%2C%20%22geometry%22%3A%20%7B%22type%22%3A%20%22MultiLineString%22%2C%20%22coordinates%22%3A%20%5B%5B%5B-63.4888949999999%2C%2044.653672000000086%5D%2C%20%5B-63.48894199999995%2C%2044.653672000000086%5D%5D%5D%7D%7D%2C%20%7B%22id%22%3A%20%221%22%2C%20%22type%22%3A%20%22Feature%22%2C%20%22properties%22%3A%20%7B%22ALIAS_NAME%22%3A%20null%2C%20%22CARTO%22%3A%205.0%2C%20%22CFCC%22%3A%20%22A40%22%2C%20%22CITYL%22%3A%20%22HALIFAX%22%2C%20%22DISP_CODE%22%3A%2040.0%2C%20%22EXIT_DIR%22%3A%20%22%20%22%2C%20%22EXIT_NUM%22%3A%20%22%20%22%2C%20%22FERRY_TYPE%22%3A%20%22%20%22%2C%20%22FJUNCTION%22%3A%202026151.0%2C%20%22FNODE%22%3A%201538879.0%2C%20%22FORMERNAME%22%3A%20null%2C%20%22FT_MINUTES%22%3A%200.082%2C%20%22FULL_NAME%22%3A%20%22NOVA%20TERR%22%2C%20%22F_ZLEV%22%3A%200%2C%20%22HWY_NAME%22%3A%20null%2C%20%22HWY_NUM%22%3A%20null%2C%20%22LEFT_MAF%22%3A%20%22HALIFAX%22%2C%20%22L_F_ADD%22%3A%2084.0%2C%20%22L_T_ADD%22%3A%2094.0%2C%20%22NAME%22%3A%20%22NOVA%22%2C%20%22OFF_RAMP%22%3A%200%2C%20%22ONEWAY%22%3A%20%22%20%22%2C%20%22ON_RAMP%22%3A%200%2C%20%22PREFIX%22%3A%20%22%20%22%2C%20%22PRE_TYPE%22%3A%20%22%20%22%2C%20%22RDLEN_M%22%3A%2068.642%2C%20%22RDLEN_MI%22%3A%200.043%2C%20%22RECORD_%22%3A%201960580.0%2C%20%22ROAD_DIR%22%3A%20%22FT%22%2C%20%22R_F_ADD%22%3A%2091.0%2C%20%22R_T_ADD%22%3A%2093.0%2C%20%22SHAPEID%22%3A%206348256.0%2C%20%22SPD_KM%22%3A%2050.0%2C%20%22SPD_MI%22%3A%2030.0%2C%20%22STATE_ABBR%22%3A%20%22NS%22%2C%20%22SUFFIX%22%3A%20%22%20%22%2C%20%22Shape_Length%22%3A%200.0008242293369858522%2C%20%22TF_MINUTES%22%3A%200.082%2C%20%22TJUNCTION%22%3A%202026205.0%2C%20%22TNODE%22%3A%201538001.0%2C%20%22TRANSCDAHWY%22%3A%20null%2C%20%22TYPE%22%3A%20%22TERR%22%2C%20%22T_ZLEV%22%3A%200%2C%20%22USERID%22%3A%206348256.0%2C%20%22YELOWHDHWY%22%3A%20null%2C%20%22ZIPL%22%3A%20%22B2V%22%7D%2C%20%22geometry%22%3A%20%7B%22type%22%3A%20%22MultiLineString%22%2C%20%22coordinates%22%3A%20%5B%5B%5B-63.48589799999991%2C%2044.659323000000086%5D%2C%20%5B-63.485120999999936%2C%2044.659598000000074%5D%5D%5D%7D%7D%2C%20%7B%22id%22%3A%20%222%22%2C%20%22type%22%3A%20%22Feature%22%2C%20%22properties%22%3A%20%7B%22ALIAS_NAME%22%3A%20null%2C%20%22CARTO%22%3A%205.0%2C%20%22CFCC%22%3A%20%22A40%22%2C%20%22CITYL%22%3A%20%22HALIFAX%22%2C%20%22DISP_CODE%22%3A%2040.0%2C%20%22EXIT_DIR%22%3A%20%22%20%22%2C%20%22EXIT_NUM%22%3A%20%22%20%22%2C%20%22FERRY_TYPE%22%3A%20%22%20%22%2C%20%22FJUNCTION%22%3A%202026390.0%2C%20%22FNODE%22%3A%201538888.0%2C%20%22FORMERNAME%22%3A%20null%2C%20%22FT_MINUTES%22%3A%200.152%2C%20%22FULL_NAME%22%3A%20%22GRENADIER%20DR%22%2C%20%22F_ZLEV%22%3A%200%2C%20%22HWY_NAME%22%3A%20null%2C%20%22HWY_NUM%22%3A%20null%2C%20%22LEFT_MAF%22%3A%20%22HALIFAX%22%2C%20%22L_F_ADD%22%3A%2070.0%2C%20%22L_T_ADD%22%3A%2088.0%2C%20%22NAME%22%3A%20%22GRENADIER%22%2C%20%22OFF_RAMP%22%3A%200%2C%20%22ONEWAY%22%3A%20%22%20%22%2C%20%22ON_RAMP%22%3A%200%2C%20%22PREFIX%22%3A%20%22%20%22%2C%20%22PRE_TYPE%22%3A%20%22%20%22%2C%20%22RDLEN_M%22%3A%20126.999%2C%20%22RDLEN_MI%22%3A%200.079%2C%20%22RECORD_%22%3A%202011065.0%2C%20%22ROAD_DIR%22%3A%20%22FT%22%2C%20%22R_F_ADD%22%3A%200.0%2C%20%22R_T_ADD%22%3A%200.0%2C%20%22SHAPEID%22%3A%207025415.0%2C%20%22SPD_KM%22%3A%2050.0%2C%20%22SPD_MI%22%3A%2030.0%2C%20%22STATE_ABBR%22%3A%20%22NS%22%2C%20%22SUFFIX%22%3A%20%22%20%22%2C%20%22Shape_Length%22%3A%200.001486214654739795%2C%20%22TF_MINUTES%22%3A%200.152%2C%20%22TJUNCTION%22%3A%202026319.0%2C%20%22TNODE%22%3A%201538816.0%2C%20%22TRANSCDAHWY%22%3A%20null%2C%20%22TYPE%22%3A%20%22DR%22%2C%20%22T_ZLEV%22%3A%200%2C%20%22USERID%22%3A%207025415.0%2C%20%22YELOWHDHWY%22%3A%20null%2C%20%22ZIPL%22%3A%20%22B2V%22%7D%2C%20%22geometry%22%3A%20%7B%22type%22%3A%20%22MultiLineString%22%2C%20%22coordinates%22%3A%20%5B%5B%5B-63.481544999999926%2C%2044.65802800000006%5D%2C%20%5B-63.48289799999992%2C%2044.657413000000076%5D%5D%5D%7D%7D%2C%20%7B%22id%22%3A%20%223%22%2C%20%22type%22%3A%20%22Feature%22%2C%20%22properties%22%3A%20%7B%22ALIAS_NAME%22%3A%20null%2C%20%22CARTO%22%3A%205.0%2C%20%22CFCC%22%3A%20%22A40%22%2C%20%22CITYL%22%3A%20%22COLE%20HARBOUR%2030%22%2C%20%22DISP_CODE%22%3A%2040.0%2C%20%22EXIT_DIR%22%3A%20%22%20%22%2C%20%22EXIT_NUM%22%3A%20%22%20%22%2C%20%22FERRY_TYPE%22%3A%20%22%20%22%2C%20%22FJUNCTION%22%3A%202026354.0%2C%20%22FNODE%22%3A%201566765.0%2C%20%22FORMERNAME%22%3A%20null%2C%20%22FT_MINUTES%22%3A%200.044%2C%20%22FULL_NAME%22%3A%20%22MILLBROOK%20AVE%22%2C%20%22F_ZLEV%22%3A%200%2C%20%22HWY_NAME%22%3A%20null%2C%20%22HWY_NUM%22%3A%20null%2C%20%22LEFT_MAF%22%3A%20%22COLE%20HARBOUR%2030%22%2C%20%22L_F_ADD%22%3A%200.0%2C%20%22L_T_ADD%22%3A%200.0%2C%20%22NAME%22%3A%20%22MILLBROOK%22%2C%20%22OFF_RAMP%22%3A%200%2C%20%22ONEWAY%22%3A%20%22%20%22%2C%20%22ON_RAMP%22%3A%200%2C%20%22PREFIX%22%3A%20%22%20%22%2C%20%22PRE_TYPE%22%3A%20%22%20%22%2C%20%22RDLEN_M%22%3A%2036.541%2C%20%22RDLEN_MI%22%3A%200.023%2C%20%22RECORD_%22%3A%202000525.0%2C%20%22ROAD_DIR%22%3A%20%22FT%22%2C%20%22R_F_ADD%22%3A%200.0%2C%20%22R_T_ADD%22%3A%200.0%2C%20%22SHAPEID%22%3A%207014828.0%2C%20%22SPD_KM%22%3A%2050.0%2C%20%22SPD_MI%22%3A%2030.0%2C%20%22STATE_ABBR%22%3A%20%22NS%22%2C%20%22SUFFIX%22%3A%20%22%20%22%2C%20%22Shape_Length%22%3A%200.00045853629477994113%2C%20%22TF_MINUTES%22%3A%200.044%2C%20%22TJUNCTION%22%3A%202026375.0%2C%20%22TNODE%22%3A%201566766.0%2C%20%22TRANSCDAHWY%22%3A%20null%2C%20%22TYPE%22%3A%20%22AVE%22%2C%20%22T_ZLEV%22%3A%200%2C%20%22USERID%22%3A%207014828.0%2C%20%22YELOWHDHWY%22%3A%20null%2C%20%22ZIPL%22%3A%20%22B2V%22%7D%2C%20%22geometry%22%3A%20%7B%22type%22%3A%20%22MultiLineString%22%2C%20%22coordinates%22%3A%20%5B%5B%5B-63.48235699999992%2C%2044.65135400000008%5D%2C%20%5B-63.48229299999991%2C%2044.65136300000006%5D%2C%20%5B-63.482242999999926%2C%2044.65136200000006%5D%2C%20%5B-63.48218099999991%2C%2044.651361000000065%5D%2C%20%5B-63.48212899999993%2C%2044.65137000000004%5D%2C%20%5B-63.48207899999994%2C%2044.65137000000004%5D%2C%20%5B-63.4820279999999%2C%2044.65137800000008%5D%2C%20%5B-63.48199099999994%2C%2044.65138600000006%5D%2C%20%5B-63.48195299999992%2C%2044.65138700000006%5D%2C%20%5B-63.481901999999934%2C%2044.651395000000036%5D%5D%5D%7D%7D%2C%20%7B%22id%22%3A%20%224%22%2C%20%22type%22%3A%20%22Feature%22%2C%20%22properties%22%3A%20%7B%22ALIAS_NAME%22%3A%20null%2C%20%22CARTO%22%3A%205.0%2C%20%22CFCC%22%3A%20%22A40%22%2C%20%22CITYL%22%3A%20%22HALIFAX%22%2C%20%22DISP_CODE%22%3A%2040.0%2C%20%22EXIT_DIR%22%3A%20%22%20%22%2C%20%22EXIT_NUM%22%3A%20%22%20%22%2C%20%22FERRY_TYPE%22%3A%20%22%20%22%2C%20%22FJUNCTION%22%3A%202026198.0%2C%20%22FNODE%22%3A%201542343.0%2C%20%22FORMERNAME%22%3A%20null%2C%20%22FT_MINUTES%22%3A%200.072%2C%20%22FULL_NAME%22%3A%20%22ROWAN%20CRT%22%2C%20%22F_ZLEV%22%3A%200%2C%20%22HWY_NAME%22%3A%20null%2C%20%22HWY_NUM%22%3A%20null%2C%20%22LEFT_MAF%22%3A%20%22HALIFAX%22%2C%20%22L_F_ADD%22%3A%200.0%2C%20%22L_T_ADD%22%3A%200.0%2C%20%22NAME%22%3A%20%22ROWAN%22%2C%20%22OFF_RAMP%22%3A%200%2C%20%22ONEWAY%22%3A%20%22%20%22%2C%20%22ON_RAMP%22%3A%200%2C%20%22PREFIX%22%3A%20%22%20%22%2C%20%22PRE_TYPE%22%3A%20%22%20%22%2C%20%22RDLEN_M%22%3A%2060.295%2C%20%22RDLEN_MI%22%3A%200.037%2C%20%22RECORD_%22%3A%201965816.0%2C%20%22ROAD_DIR%22%3A%20%22FT%22%2C%20%22R_F_ADD%22%3A%200.0%2C%20%22R_T_ADD%22%3A%200.0%2C%20%22SHAPEID%22%3A%206354404.0%2C%20%22SPD_KM%22%3A%2050.0%2C%20%22SPD_MI%22%3A%2030.0%2C%20%22STATE_ABBR%22%3A%20%22NS%22%2C%20%22SUFFIX%22%3A%20%22%20%22%2C%20%22Shape_Length%22%3A%200.0006538653742959778%2C%20%22TF_MINUTES%22%3A%200.072%2C%20%22TJUNCTION%22%3A%202026198.0%2C%20%22TNODE%22%3A%201542343.0%2C%20%22TRANSCDAHWY%22%3A%20null%2C%20%22TYPE%22%3A%20%22CRT%22%2C%20%22T_ZLEV%22%3A%200%2C%20%22USERID%22%3A%206354404.0%2C%20%22YELOWHDHWY%22%3A%20null%2C%20%22ZIPL%22%3A%20%22B2V%22%7D%2C%20%22geometry%22%3A%20%7B%22type%22%3A%20%22MultiLineString%22%2C%20%22coordinates%22%3A%20%5B%5B%5B-63.485222999999905%2C%2044.65248400000007%5D%2C%20%5B-63.48526299999992%2C%2044.65248100000008%5D%2C%20%5B-63.485296999999946%2C%2044.65248200000008%5D%2C%20%5B-63.48532599999993%2C%2044.652487000000065%5D%2C%20%5B-63.48534699999993%2C%2044.65249400000005%5D%2C%20%5B-63.48537799999991%2C%2044.65250800000007%5D%2C%20%5B-63.48539799999992%2C%2044.65252900000007%5D%2C%20%5B-63.48540899999995%2C%2044.65255600000006%5D%2C%20%5B-63.48540899999995%2C%2044.652585000000045%5D%2C%20%5B-63.485394999999926%2C%2044.652611000000036%5D%2C%20%5B-63.48536799999994%2C%2044.65263500000009%5D%2C%20%5B-63.48533999999995%2C%2044.65264700000006%5D%2C%20%5B-63.48530699999992%2C%2044.65265300000004%5D%2C%20%5B-63.485274999999945%2C%2044.652652000000046%5D%2C%20%5B-63.485241999999914%2C%2044.652645000000064%5D%2C%20%5B-63.48520999999994%2C%2044.65263100000004%5D%2C%20%5B-63.48518699999994%2C%2044.65261000000004%5D%2C%20%5B-63.48517299999992%2C%2044.65258000000006%5D%2C%20%5B-63.485173999999915%2C%2044.652551000000074%5D%2C%20%5B-63.48519099999993%2C%2044.652521000000036%5D%2C%20%5B-63.485222999999905%2C%2044.65248400000007%5D%5D%5D%7D%7D%5D%7D\n"
     ]
    }
   ],
   "source": [
    "print(gjsio.make_url(gdb_df.head().to_json()))"
   ]
  },
  {
   "cell_type": "code",
   "execution_count": 26,
   "id": "280e4ab1",
   "metadata": {},
   "outputs": [],
   "source": [
    "traj_gjs = gpd.read_file('traj_with_crs.geojson')\n",
    "traj_gjs = traj_data.to_json()\n",
    "#print((traj_gjs))"
   ]
  },
  {
   "cell_type": "markdown",
   "id": "74cf889d",
   "metadata": {},
   "source": [
    "Can also use gjsio.display(traj_gjs) to display, but the url would be too long for Windows to handle"
   ]
  },
  {
   "cell_type": "code",
   "execution_count": 27,
   "id": "1ce26346",
   "metadata": {},
   "outputs": [
    {
     "name": "stdout",
     "output_type": "stream",
     "text": [
      "http://geojson.io/#data=data:application/json,%7B%22type%22%3A%20%22FeatureCollection%22%2C%20%22features%22%3A%20%5B%7B%22id%22%3A%20%220%22%2C%20%22type%22%3A%20%22Feature%22%2C%20%22properties%22%3A%20%7B%22ACTCODE%22%3A%20%22car%22%2C%20%22DESTCODE%22%3A%20%22car%22%2C%20%22DURSEC%22%3A%20%2211%22%2C%20%22EPISODEID%22%3A%20%2214640_20070403_17%22%2C%20%22TIMESTART%22%3A%20%2212%3A34%3A13%22%2C%20%22TRACKID%22%3A%20%2215325184%22%7D%2C%20%22geometry%22%3A%20%7B%22type%22%3A%20%22Point%22%2C%20%22coordinates%22%3A%20%5B-63.47434997%2C%2044.64704513%5D%7D%7D%2C%20%7B%22id%22%3A%20%221%22%2C%20%22type%22%3A%20%22Feature%22%2C%20%22properties%22%3A%20%7B%22ACTCODE%22%3A%20%22car%22%2C%20%22DESTCODE%22%3A%20%22car%22%2C%20%22DURSEC%22%3A%20%222%22%2C%20%22EPISODEID%22%3A%20%2214640_20070403_17%22%2C%20%22TIMESTART%22%3A%20%2212%3A34%3A15%22%2C%20%22TRACKID%22%3A%20%2215325185%22%7D%2C%20%22geometry%22%3A%20%7B%22type%22%3A%20%22Point%22%2C%20%22coordinates%22%3A%20%5B-63.47436523%2C%2044.64704513%5D%7D%7D%2C%20%7B%22id%22%3A%20%222%22%2C%20%22type%22%3A%20%22Feature%22%2C%20%22properties%22%3A%20%7B%22ACTCODE%22%3A%20%22car%22%2C%20%22DESTCODE%22%3A%20%22car%22%2C%20%22DURSEC%22%3A%20%225%22%2C%20%22EPISODEID%22%3A%20%2214640_20070403_17%22%2C%20%22TIMESTART%22%3A%20%2212%3A34%3A20%22%2C%20%22TRACKID%22%3A%20%2215325187%22%7D%2C%20%22geometry%22%3A%20%7B%22type%22%3A%20%22Point%22%2C%20%22coordinates%22%3A%20%5B-63.47436523%2C%2044.64702987%5D%7D%7D%2C%20%7B%22id%22%3A%20%223%22%2C%20%22type%22%3A%20%22Feature%22%2C%20%22properties%22%3A%20%7B%22ACTCODE%22%3A%20%22car%22%2C%20%22DESTCODE%22%3A%20%22car%22%2C%20%22DURSEC%22%3A%20%223%22%2C%20%22EPISODEID%22%3A%20%2214640_20070403_17%22%2C%20%22TIMESTART%22%3A%20%2212%3A34%3A23%22%2C%20%22TRACKID%22%3A%20%2215325188%22%7D%2C%20%22geometry%22%3A%20%7B%22type%22%3A%20%22Point%22%2C%20%22coordinates%22%3A%20%5B-63.47432708%2C%2044.64699172%5D%7D%7D%2C%20%7B%22id%22%3A%20%224%22%2C%20%22type%22%3A%20%22Feature%22%2C%20%22properties%22%3A%20%7B%22ACTCODE%22%3A%20%22car%22%2C%20%22DESTCODE%22%3A%20%22car%22%2C%20%22DURSEC%22%3A%20%222%22%2C%20%22EPISODEID%22%3A%20%2214640_20070403_17%22%2C%20%22TIMESTART%22%3A%20%2212%3A34%3A25%22%2C%20%22TRACKID%22%3A%20%2215325189%22%7D%2C%20%22geometry%22%3A%20%7B%22type%22%3A%20%22Point%22%2C%20%22coordinates%22%3A%20%5B-63.47431945%2C%2044.6469841%5D%7D%7D%2C%20%7B%22id%22%3A%20%225%22%2C%20%22type%22%3A%20%22Feature%22%2C%20%22properties%22%3A%20%7B%22ACTCODE%22%3A%20%22car%22%2C%20%22DESTCODE%22%3A%20%22car%22%2C%20%22DURSEC%22%3A%20%228%22%2C%20%22EPISODEID%22%3A%20%2214640_20070403_17%22%2C%20%22TIMESTART%22%3A%20%2212%3A34%3A33%22%2C%20%22TRACKID%22%3A%20%2215325192%22%7D%2C%20%22geometry%22%3A%20%7B%22type%22%3A%20%22Point%22%2C%20%22coordinates%22%3A%20%5B-63.474311820000004%2C%2044.64697265%5D%7D%7D%2C%20%7B%22id%22%3A%20%226%22%2C%20%22type%22%3A%20%22Feature%22%2C%20%22properties%22%3A%20%7B%22ACTCODE%22%3A%20%22car%22%2C%20%22DESTCODE%22%3A%20%22car%22%2C%20%22DURSEC%22%3A%20%222%22%2C%20%22EPISODEID%22%3A%20%2214640_20070403_17%22%2C%20%22TIMESTART%22%3A%20%2212%3A34%3A35%22%2C%20%22TRACKID%22%3A%20%2215325193%22%7D%2C%20%22geometry%22%3A%20%7B%22type%22%3A%20%22Point%22%2C%20%22coordinates%22%3A%20%5B-63.47434234%2C%2044.64699172%5D%7D%7D%2C%20%7B%22id%22%3A%20%227%22%2C%20%22type%22%3A%20%22Feature%22%2C%20%22properties%22%3A%20%7B%22ACTCODE%22%3A%20%22car%22%2C%20%22DESTCODE%22%3A%20%22car%22%2C%20%22DURSEC%22%3A%20%223%22%2C%20%22EPISODEID%22%3A%20%2214640_20070403_17%22%2C%20%22TIMESTART%22%3A%20%2212%3A34%3A38%22%2C%20%22TRACKID%22%3A%20%2215325194%22%7D%2C%20%22geometry%22%3A%20%7B%22type%22%3A%20%22Point%22%2C%20%22coordinates%22%3A%20%5B-63.47436904%2C%2044.6470108%5D%7D%7D%2C%20%7B%22id%22%3A%20%228%22%2C%20%22type%22%3A%20%22Feature%22%2C%20%22properties%22%3A%20%7B%22ACTCODE%22%3A%20%22car%22%2C%20%22DESTCODE%22%3A%20%22car%22%2C%20%22DURSEC%22%3A%20%222%22%2C%20%22EPISODEID%22%3A%20%2214640_20070403_17%22%2C%20%22TIMESTART%22%3A%20%2212%3A34%3A40%22%2C%20%22TRACKID%22%3A%20%2215325195%22%7D%2C%20%22geometry%22%3A%20%7B%22type%22%3A%20%22Point%22%2C%20%22coordinates%22%3A%20%5B-63.47438049000001%2C%2044.6470375%5D%7D%7D%2C%20%7B%22id%22%3A%20%229%22%2C%20%22type%22%3A%20%22Feature%22%2C%20%22properties%22%3A%20%7B%22ACTCODE%22%3A%20%22car%22%2C%20%22DESTCODE%22%3A%20%22car%22%2C%20%22DURSEC%22%3A%20%223%22%2C%20%22EPISODEID%22%3A%20%2214640_20070403_17%22%2C%20%22TIMESTART%22%3A%20%2212%3A34%3A43%22%2C%20%22TRACKID%22%3A%20%2215325196%22%7D%2C%20%22geometry%22%3A%20%7B%22type%22%3A%20%22Point%22%2C%20%22coordinates%22%3A%20%5B-63.474411010000004%2C%2044.647075650000005%5D%7D%7D%2C%20%7B%22id%22%3A%20%2210%22%2C%20%22type%22%3A%20%22Feature%22%2C%20%22properties%22%3A%20%7B%22ACTCODE%22%3A%20%22car%22%2C%20%22DESTCODE%22%3A%20%22car%22%2C%20%22DURSEC%22%3A%20%222%22%2C%20%22EPISODEID%22%3A%20%2214640_20070403_17%22%2C%20%22TIMESTART%22%3A%20%2212%3A34%3A45%22%2C%20%22TRACKID%22%3A%20%2215325197%22%7D%2C%20%22geometry%22%3A%20%7B%22type%22%3A%20%22Point%22%2C%20%22coordinates%22%3A%20%5B-63.47442626%2C%2044.647075650000005%5D%7D%7D%2C%20%7B%22id%22%3A%20%2211%22%2C%20%22type%22%3A%20%22Feature%22%2C%20%22properties%22%3A%20%7B%22ACTCODE%22%3A%20%22car%22%2C%20%22DESTCODE%22%3A%20%22car%22%2C%20%22DURSEC%22%3A%20%2246%22%2C%20%22EPISODEID%22%3A%20%2214640_20070403_17%22%2C%20%22TIMESTART%22%3A%20%2212%3A35%3A31%22%2C%20%22TRACKID%22%3A%20%2215325215%22%7D%2C%20%22geometry%22%3A%20%7B%22type%22%3A%20%22Point%22%2C%20%22coordinates%22%3A%20%5B-63.47442245%2C%2044.64709091%5D%7D%7D%2C%20%7B%22id%22%3A%20%2212%22%2C%20%22type%22%3A%20%22Feature%22%2C%20%22properties%22%3A%20%7B%22ACTCODE%22%3A%20%22car%22%2C%20%22DESTCODE%22%3A%20%22car%22%2C%20%22DURSEC%22%3A%20%2240%22%2C%20%22EPISODEID%22%3A%20%2214640_20070403_17%22%2C%20%22TIMESTART%22%3A%20%2212%3A36%3A11%22%2C%20%22TRACKID%22%3A%20%2215325218%22%7D%2C%20%22geometry%22%3A%20%7B%22type%22%3A%20%22Point%22%2C%20%22coordinates%22%3A%20%5B-63.47520065%2C%2044.64873123%5D%7D%7D%2C%20%7B%22id%22%3A%20%2213%22%2C%20%22type%22%3A%20%22Feature%22%2C%20%22properties%22%3A%20%7B%22ACTCODE%22%3A%20%22car%22%2C%20%22DESTCODE%22%3A%20%22car%22%2C%20%22DURSEC%22%3A%20%226%22%2C%20%22EPISODEID%22%3A%20%2214640_20070403_17%22%2C%20%22TIMESTART%22%3A%20%2212%3A36%3A17%22%2C%20%22TRACKID%22%3A%20%2215325221%22%7D%2C%20%22geometry%22%3A%20%7B%22type%22%3A%20%22Point%22%2C%20%22coordinates%22%3A%20%5B-63.47482681000001%2C%2044.64900588%5D%7D%7D%2C%20%7B%22id%22%3A%20%2214%22%2C%20%22type%22%3A%20%22Feature%22%2C%20%22properties%22%3A%20%7B%22ACTCODE%22%3A%20%22car%22%2C%20%22DESTCODE%22%3A%20%22car%22%2C%20%22DURSEC%22%3A%20%222%22%2C%20%22EPISODEID%22%3A%20%2214640_20070403_17%22%2C%20%22TIMESTART%22%3A%20%2212%3A36%3A19%22%2C%20%22TRACKID%22%3A%20%2215325222%22%7D%2C%20%22geometry%22%3A%20%7B%22type%22%3A%20%22Point%22%2C%20%22coordinates%22%3A%20%5B-63.47434997%2C%2044.64948272%5D%7D%7D%2C%20%7B%22id%22%3A%20%2215%22%2C%20%22type%22%3A%20%22Feature%22%2C%20%22properties%22%3A%20%7B%22ACTCODE%22%3A%20%22car%22%2C%20%22DESTCODE%22%3A%20%22car%22%2C%20%22DURSEC%22%3A%20%223%22%2C%20%22EPISODEID%22%3A%20%2214640_20070403_17%22%2C%20%22TIMESTART%22%3A%20%2212%3A36%3A22%22%2C%20%22TRACKID%22%3A%20%2215325223%22%7D%2C%20%22geometry%22%3A%20%7B%22type%22%3A%20%22Point%22%2C%20%22coordinates%22%3A%20%5B-63.47414779%2C%2044.64966583%5D%7D%7D%2C%20%7B%22id%22%3A%20%2216%22%2C%20%22type%22%3A%20%22Feature%22%2C%20%22properties%22%3A%20%7B%22ACTCODE%22%3A%20%22car%22%2C%20%22DESTCODE%22%3A%20%22car%22%2C%20%22DURSEC%22%3A%20%222%22%2C%20%22EPISODEID%22%3A%20%2214640_20070403_17%22%2C%20%22TIMESTART%22%3A%20%2212%3A36%3A24%22%2C%20%22TRACKID%22%3A%20%2215325224%22%7D%2C%20%22geometry%22%3A%20%7B%22type%22%3A%20%22Point%22%2C%20%22coordinates%22%3A%20%5B-63.47398757%2C%2044.64980697000001%5D%7D%7D%2C%20%7B%22id%22%3A%20%2217%22%2C%20%22type%22%3A%20%22Feature%22%2C%20%22properties%22%3A%20%7B%22ACTCODE%22%3A%20%22car%22%2C%20%22DESTCODE%22%3A%20%22car%22%2C%20%22DURSEC%22%3A%20%223%22%2C%20%22EPISODEID%22%3A%20%2214640_20070403_17%22%2C%20%22TIMESTART%22%3A%20%2212%3A36%3A27%22%2C%20%22TRACKID%22%3A%20%2215325225%22%7D%2C%20%22geometry%22%3A%20%7B%22type%22%3A%20%22Point%22%2C%20%22coordinates%22%3A%20%5B-63.47382736%2C%2044.649940490000006%5D%7D%7D%2C%20%7B%22id%22%3A%20%2218%22%2C%20%22type%22%3A%20%22Feature%22%2C%20%22properties%22%3A%20%7B%22ACTCODE%22%3A%20%22car%22%2C%20%22DESTCODE%22%3A%20%22car%22%2C%20%22DURSEC%22%3A%20%222%22%2C%20%22EPISODEID%22%3A%20%2214640_20070403_17%22%2C%20%22TIMESTART%22%3A%20%2212%3A36%3A29%22%2C%20%22TRACKID%22%3A%20%2215325226%22%7D%2C%20%22geometry%22%3A%20%7B%22type%22%3A%20%22Point%22%2C%20%22coordinates%22%3A%20%5B-63.47383499%2C%2044.65001296%5D%7D%7D%2C%20%7B%22id%22%3A%20%2219%22%2C%20%22type%22%3A%20%22Feature%22%2C%20%22properties%22%3A%20%7B%22ACTCODE%22%3A%20%22car%22%2C%20%22DESTCODE%22%3A%20%22car%22%2C%20%22DURSEC%22%3A%20%223%22%2C%20%22EPISODEID%22%3A%20%2214640_20070403_17%22%2C%20%22TIMESTART%22%3A%20%2212%3A36%3A32%22%2C%20%22TRACKID%22%3A%20%2215325227%22%7D%2C%20%22geometry%22%3A%20%7B%22type%22%3A%20%22Point%22%2C%20%22coordinates%22%3A%20%5B-63.47392654%2C%2044.650112150000005%5D%7D%7D%2C%20%7B%22id%22%3A%20%2220%22%2C%20%22type%22%3A%20%22Feature%22%2C%20%22properties%22%3A%20%7B%22ACTCODE%22%3A%20%22car%22%2C%20%22DESTCODE%22%3A%20%22car%22%2C%20%22DURSEC%22%3A%20%222%22%2C%20%22EPISODEID%22%3A%20%2214640_20070403_17%22%2C%20%22TIMESTART%22%3A%20%2212%3A36%3A34%22%2C%20%22TRACKID%22%3A%20%2215325228%22%7D%2C%20%22geometry%22%3A%20%7B%22type%22%3A%20%22Point%22%2C%20%22coordinates%22%3A%20%5B-63.47410202%2C%2044.65024948000001%5D%7D%7D%2C%20%7B%22id%22%3A%20%2221%22%2C%20%22type%22%3A%20%22Feature%22%2C%20%22properties%22%3A%20%7B%22ACTCODE%22%3A%20%22car%22%2C%20%22DESTCODE%22%3A%20%22car%22%2C%20%22DURSEC%22%3A%20%222%22%2C%20%22EPISODEID%22%3A%20%2214640_20070403_17%22%2C%20%22TIMESTART%22%3A%20%2212%3A36%3A36%22%2C%20%22TRACKID%22%3A%20%2215325229%22%7D%2C%20%22geometry%22%3A%20%7B%22type%22%3A%20%22Point%22%2C%20%22coordinates%22%3A%20%5B-63.474639890000006%2C%2044.6505928%5D%7D%7D%2C%20%7B%22id%22%3A%20%2222%22%2C%20%22type%22%3A%20%22Feature%22%2C%20%22properties%22%3A%20%7B%22ACTCODE%22%3A%20%22car%22%2C%20%22DESTCODE%22%3A%20%22car%22%2C%20%22DURSEC%22%3A%20%223%22%2C%20%22EPISODEID%22%3A%20%2214640_20070403_17%22%2C%20%22TIMESTART%22%3A%20%2212%3A36%3A39%22%2C%20%22TRACKID%22%3A%20%2215325230%22%7D%2C%20%22geometry%22%3A%20%7B%22type%22%3A%20%22Point%22%2C%20%22coordinates%22%3A%20%5B-63.47498320999999%2C%2044.65079879%5D%7D%7D%2C%20%7B%22id%22%3A%20%2223%22%2C%20%22type%22%3A%20%22Feature%22%2C%20%22properties%22%3A%20%7B%22ACTCODE%22%3A%20%22car%22%2C%20%22DESTCODE%22%3A%20%22car%22%2C%20%22DURSEC%22%3A%20%222%22%2C%20%22EPISODEID%22%3A%20%2214640_20070403_17%22%2C%20%22TIMESTART%22%3A%20%2212%3A36%3A41%22%2C%20%22TRACKID%22%3A%20%2215325231%22%7D%2C%20%22geometry%22%3A%20%7B%22type%22%3A%20%22Point%22%2C%20%22coordinates%22%3A%20%5B-63.47534560999999%2C%2044.65100479%5D%7D%7D%2C%20%7B%22id%22%3A%20%2224%22%2C%20%22type%22%3A%20%22Feature%22%2C%20%22properties%22%3A%20%7B%22ACTCODE%22%3A%20%22car%22%2C%20%22DESTCODE%22%3A%20%22car%22%2C%20%22DURSEC%22%3A%20%223%22%2C%20%22EPISODEID%22%3A%20%2214640_20070403_17%22%2C%20%22TIMESTART%22%3A%20%2212%3A36%3A44%22%2C%20%22TRACKID%22%3A%20%2215325232%22%7D%2C%20%22geometry%22%3A%20%7B%22type%22%3A%20%22Point%22%2C%20%22coordinates%22%3A%20%5B-63.47566986000001%2C%2044.65119552%5D%7D%7D%2C%20%7B%22id%22%3A%20%2225%22%2C%20%22type%22%3A%20%22Feature%22%2C%20%22properties%22%3A%20%7B%22ACTCODE%22%3A%20%22car%22%2C%20%22DESTCODE%22%3A%20%22car%22%2C%20%22DURSEC%22%3A%20%223%22%2C%20%22EPISODEID%22%3A%20%2214640_20070403_17%22%2C%20%22TIMESTART%22%3A%20%2212%3A36%3A47%22%2C%20%22TRACKID%22%3A%20%2215325233%22%7D%2C%20%22geometry%22%3A%20%7B%22type%22%3A%20%22Point%22%2C%20%22coordinates%22%3A%20%5B-63.47595977000001%2C%2044.65137863%5D%7D%7D%2C%20%7B%22id%22%3A%20%2226%22%2C%20%22type%22%3A%20%22Feature%22%2C%20%22properties%22%3A%20%7B%22ACTCODE%22%3A%20%22car%22%2C%20%22DESTCODE%22%3A%20%22car%22%2C%20%22DURSEC%22%3A%20%222%22%2C%20%22EPISODEID%22%3A%20%2214640_20070403_17%22%2C%20%22TIMESTART%22%3A%20%2212%3A36%3A49%22%2C%20%22TRACKID%22%3A%20%2215325234%22%7D%2C%20%22geometry%22%3A%20%7B%22type%22%3A%20%22Point%22%2C%20%22coordinates%22%3A%20%5B-63.47624969%2C%2044.651565549999994%5D%7D%7D%2C%20%7B%22id%22%3A%20%2227%22%2C%20%22type%22%3A%20%22Feature%22%2C%20%22properties%22%3A%20%7B%22ACTCODE%22%3A%20%22car%22%2C%20%22DESTCODE%22%3A%20%22car%22%2C%20%22DURSEC%22%3A%20%223%22%2C%20%22EPISODEID%22%3A%20%2214640_20070403_17%22%2C%20%22TIMESTART%22%3A%20%2212%3A36%3A52%22%2C%20%22TRACKID%22%3A%20%2215325235%22%7D%2C%20%22geometry%22%3A%20%7B%22type%22%3A%20%22Point%22%2C%20%22coordinates%22%3A%20%5B-63.47681045%2C%2044.65193557%5D%7D%7D%2C%20%7B%22id%22%3A%20%2228%22%2C%20%22type%22%3A%20%22Feature%22%2C%20%22properties%22%3A%20%7B%22ACTCODE%22%3A%20%22car%22%2C%20%22DESTCODE%22%3A%20%22car%22%2C%20%22DURSEC%22%3A%20%222%22%2C%20%22EPISODEID%22%3A%20%2214640_20070403_17%22%2C%20%22TIMESTART%22%3A%20%2212%3A36%3A54%22%2C%20%22TRACKID%22%3A%20%2215325236%22%7D%2C%20%22geometry%22%3A%20%7B%22type%22%3A%20%22Point%22%2C%20%22coordinates%22%3A%20%5B-63.47710418%2C%2044.65210723%5D%7D%7D%2C%20%7B%22id%22%3A%20%2229%22%2C%20%22type%22%3A%20%22Feature%22%2C%20%22properties%22%3A%20%7B%22ACTCODE%22%3A%20%22car%22%2C%20%22DESTCODE%22%3A%20%22car%22%2C%20%22DURSEC%22%3A%20%223%22%2C%20%22EPISODEID%22%3A%20%2214640_20070403_17%22%2C%20%22TIMESTART%22%3A%20%2212%3A36%3A57%22%2C%20%22TRACKID%22%3A%20%2215325237%22%7D%2C%20%22geometry%22%3A%20%7B%22type%22%3A%20%22Point%22%2C%20%22coordinates%22%3A%20%5B-63.47741699%2C%2044.65228652%5D%7D%7D%2C%20%7B%22id%22%3A%20%2230%22%2C%20%22type%22%3A%20%22Feature%22%2C%20%22properties%22%3A%20%7B%22ACTCODE%22%3A%20%22car%22%2C%20%22DESTCODE%22%3A%20%22car%22%2C%20%22DURSEC%22%3A%20%222%22%2C%20%22EPISODEID%22%3A%20%2214640_20070403_17%22%2C%20%22TIMESTART%22%3A%20%2212%3A36%3A59%22%2C%20%22TRACKID%22%3A%20%2215325238%22%7D%2C%20%22geometry%22%3A%20%7B%22type%22%3A%20%22Point%22%2C%20%22coordinates%22%3A%20%5B-63.47771835000001%2C%2044.65245056%5D%7D%7D%2C%20%7B%22id%22%3A%20%2231%22%2C%20%22type%22%3A%20%22Feature%22%2C%20%22properties%22%3A%20%7B%22ACTCODE%22%3A%20%22car%22%2C%20%22DESTCODE%22%3A%20%22car%22%2C%20%22DURSEC%22%3A%20%223%22%2C%20%22EPISODEID%22%3A%20%2214640_20070403_17%22%2C%20%22TIMESTART%22%3A%20%2212%3A37%3A02%22%2C%20%22TRACKID%22%3A%20%2215325239%22%7D%2C%20%22geometry%22%3A%20%7B%22type%22%3A%20%22Point%22%2C%20%22coordinates%22%3A%20%5B-63.47798538000001%2C%2044.65259933%5D%7D%7D%2C%20%7B%22id%22%3A%20%2232%22%2C%20%22type%22%3A%20%22Feature%22%2C%20%22properties%22%3A%20%7B%22ACTCODE%22%3A%20%22car%22%2C%20%22DESTCODE%22%3A%20%22car%22%2C%20%22DURSEC%22%3A%20%222%22%2C%20%22EPISODEID%22%3A%20%2214640_20070403_17%22%2C%20%22TIMESTART%22%3A%20%2212%3A37%3A04%22%2C%20%22TRACKID%22%3A%20%2215325240%22%7D%2C%20%22geometry%22%3A%20%7B%22type%22%3A%20%22Point%22%2C%20%22coordinates%22%3A%20%5B-63.478507990000004%2C%2044.65290451%5D%7D%7D%2C%20%7B%22id%22%3A%20%2233%22%2C%20%22type%22%3A%20%22Feature%22%2C%20%22properties%22%3A%20%7B%22ACTCODE%22%3A%20%22car%22%2C%20%22DESTCODE%22%3A%20%22car%22%2C%20%22DURSEC%22%3A%20%223%22%2C%20%22EPISODEID%22%3A%20%2214640_20070403_17%22%2C%20%22TIMESTART%22%3A%20%2212%3A37%3A07%22%2C%20%22TRACKID%22%3A%20%2215325241%22%7D%2C%20%22geometry%22%3A%20%7B%22type%22%3A%20%22Point%22%2C%20%22coordinates%22%3A%20%5B-63.47871779999999%2C%2044.65304183%5D%7D%7D%2C%20%7B%22id%22%3A%20%2234%22%2C%20%22type%22%3A%20%22Feature%22%2C%20%22properties%22%3A%20%7B%22ACTCODE%22%3A%20%22car%22%2C%20%22DESTCODE%22%3A%20%22car%22%2C%20%22DURSEC%22%3A%20%223%22%2C%20%22EPISODEID%22%3A%20%2214640_20070403_17%22%2C%20%22TIMESTART%22%3A%20%2212%3A37%3A10%22%2C%20%22TRACKID%22%3A%20%2215325242%22%7D%2C%20%22geometry%22%3A%20%7B%22type%22%3A%20%22Point%22%2C%20%22coordinates%22%3A%20%5B-63.478939049999994%2C%2044.65319061%5D%7D%7D%2C%20%7B%22id%22%3A%20%2235%22%2C%20%22type%22%3A%20%22Feature%22%2C%20%22properties%22%3A%20%7B%22ACTCODE%22%3A%20%22car%22%2C%20%22DESTCODE%22%3A%20%22car%22%2C%20%22DURSEC%22%3A%20%222%22%2C%20%22EPISODEID%22%3A%20%2214640_20070403_17%22%2C%20%22TIMESTART%22%3A%20%2212%3A37%3A12%22%2C%20%22TRACKID%22%3A%20%2215325243%22%7D%2C%20%22geometry%22%3A%20%7B%22type%22%3A%20%22Point%22%2C%20%22coordinates%22%3A%20%5B-63.479125970000005%2C%2044.65332793999999%5D%7D%7D%2C%20%7B%22id%22%3A%20%2236%22%2C%20%22type%22%3A%20%22Feature%22%2C%20%22properties%22%3A%20%7B%22ACTCODE%22%3A%20%22car%22%2C%20%22DESTCODE%22%3A%20%22car%22%2C%20%22DURSEC%22%3A%20%223%22%2C%20%22EPISODEID%22%3A%20%2214640_20070403_17%22%2C%20%22TIMESTART%22%3A%20%2212%3A37%3A15%22%2C%20%22TRACKID%22%3A%20%2215325244%22%7D%2C%20%22geometry%22%3A%20%7B%22type%22%3A%20%22Point%22%2C%20%22coordinates%22%3A%20%5B-63.47929382000001%2C%2044.65345764%5D%7D%7D%2C%20%7B%22id%22%3A%20%2237%22%2C%20%22type%22%3A%20%22Feature%22%2C%20%22properties%22%3A%20%7B%22ACTCODE%22%3A%20%22car%22%2C%20%22DESTCODE%22%3A%20%22car%22%2C%20%22DURSEC%22%3A%20%222%22%2C%20%22EPISODEID%22%3A%20%2214640_20070403_17%22%2C%20%22TIMESTART%22%3A%20%2212%3A37%3A17%22%2C%20%22TRACKID%22%3A%20%2215325245%22%7D%2C%20%22geometry%22%3A%20%7B%22type%22%3A%20%22Point%22%2C%20%22coordinates%22%3A%20%5B-63.479568480000005%2C%2044.65370559%5D%7D%7D%2C%20%7B%22id%22%3A%20%2238%22%2C%20%22type%22%3A%20%22Feature%22%2C%20%22properties%22%3A%20%7B%22ACTCODE%22%3A%20%22car%22%2C%20%22DESTCODE%22%3A%20%22car%22%2C%20%22DURSEC%22%3A%20%223%22%2C%20%22EPISODEID%22%3A%20%2214640_20070403_17%22%2C%20%22TIMESTART%22%3A%20%2212%3A37%3A20%22%2C%20%22TRACKID%22%3A%20%2215325246%22%7D%2C%20%22geometry%22%3A%20%7B%22type%22%3A%20%22Point%22%2C%20%22coordinates%22%3A%20%5B-63.47970581%2C%2044.65383529%5D%7D%7D%2C%20%7B%22id%22%3A%20%2239%22%2C%20%22type%22%3A%20%22Feature%22%2C%20%22properties%22%3A%20%7B%22ACTCODE%22%3A%20%22car%22%2C%20%22DESTCODE%22%3A%20%22car%22%2C%20%22DURSEC%22%3A%20%222%22%2C%20%22EPISODEID%22%3A%20%2214640_20070403_17%22%2C%20%22TIMESTART%22%3A%20%2212%3A37%3A22%22%2C%20%22TRACKID%22%3A%20%2215325247%22%7D%2C%20%22geometry%22%3A%20%7B%22type%22%3A%20%22Point%22%2C%20%22coordinates%22%3A%20%5B-63.47981643000001%2C%2044.65395355%5D%7D%7D%2C%20%7B%22id%22%3A%20%2240%22%2C%20%22type%22%3A%20%22Feature%22%2C%20%22properties%22%3A%20%7B%22ACTCODE%22%3A%20%22car%22%2C%20%22DESTCODE%22%3A%20%22car%22%2C%20%22DURSEC%22%3A%20%223%22%2C%20%22EPISODEID%22%3A%20%2214640_20070403_17%22%2C%20%22TIMESTART%22%3A%20%2212%3A37%3A25%22%2C%20%22TRACKID%22%3A%20%2215325248%22%7D%2C%20%22geometry%22%3A%20%7B%22type%22%3A%20%22Point%22%2C%20%22coordinates%22%3A%20%5B-63.47996139%2C%2044.65409851%5D%7D%7D%2C%20%7B%22id%22%3A%20%2241%22%2C%20%22type%22%3A%20%22Feature%22%2C%20%22properties%22%3A%20%7B%22ACTCODE%22%3A%20%22car%22%2C%20%22DESTCODE%22%3A%20%22car%22%2C%20%22DURSEC%22%3A%20%222%22%2C%20%22EPISODEID%22%3A%20%2214640_20070403_17%22%2C%20%22TIMESTART%22%3A%20%2212%3A37%3A27%22%2C%20%22TRACKID%22%3A%20%2215325249%22%7D%2C%20%22geometry%22%3A%20%7B%22type%22%3A%20%22Point%22%2C%20%22coordinates%22%3A%20%5B-63.47997665%2C%2044.65411757999999%5D%7D%7D%2C%20%7B%22id%22%3A%20%2242%22%2C%20%22type%22%3A%20%22Feature%22%2C%20%22properties%22%3A%20%7B%22ACTCODE%22%3A%20%22car%22%2C%20%22DESTCODE%22%3A%20%22car%22%2C%20%22DURSEC%22%3A%20%2228%22%2C%20%22EPISODEID%22%3A%20%2214640_20070403_17%22%2C%20%22TIMESTART%22%3A%20%2212%3A37%3A55%22%2C%20%22TRACKID%22%3A%20%2215325260%22%7D%2C%20%22geometry%22%3A%20%7B%22type%22%3A%20%22Point%22%2C%20%22coordinates%22%3A%20%5B-63.48000716999999%2C%2044.65416336%5D%7D%7D%2C%20%7B%22id%22%3A%20%2243%22%2C%20%22type%22%3A%20%22Feature%22%2C%20%22properties%22%3A%20%7B%22ACTCODE%22%3A%20%22car%22%2C%20%22DESTCODE%22%3A%20%22car%22%2C%20%22DURSEC%22%3A%20%223%22%2C%20%22EPISODEID%22%3A%20%2214640_20070403_17%22%2C%20%22TIMESTART%22%3A%20%2212%3A37%3A58%22%2C%20%22TRACKID%22%3A%20%2215325261%22%7D%2C%20%22geometry%22%3A%20%7B%22type%22%3A%20%22Point%22%2C%20%22coordinates%22%3A%20%5B-63.48010253%2C%2044.65423965%5D%7D%7D%2C%20%7B%22id%22%3A%20%2244%22%2C%20%22type%22%3A%20%22Feature%22%2C%20%22properties%22%3A%20%7B%22ACTCODE%22%3A%20%22car%22%2C%20%22DESTCODE%22%3A%20%22car%22%2C%20%22DURSEC%22%3A%20%222%22%2C%20%22EPISODEID%22%3A%20%2214640_20070403_17%22%2C%20%22TIMESTART%22%3A%20%2212%3A38%3A00%22%2C%20%22TRACKID%22%3A%20%2215325262%22%7D%2C%20%22geometry%22%3A%20%7B%22type%22%3A%20%22Point%22%2C%20%22coordinates%22%3A%20%5B-63.48025130999999%2C%2044.654361720000004%5D%7D%7D%2C%20%7B%22id%22%3A%20%2245%22%2C%20%22type%22%3A%20%22Feature%22%2C%20%22properties%22%3A%20%7B%22ACTCODE%22%3A%20%22car%22%2C%20%22DESTCODE%22%3A%20%22car%22%2C%20%22DURSEC%22%3A%20%223%22%2C%20%22EPISODEID%22%3A%20%2214640_20070403_17%22%2C%20%22TIMESTART%22%3A%20%2212%3A38%3A03%22%2C%20%22TRACKID%22%3A%20%2215325263%22%7D%2C%20%22geometry%22%3A%20%7B%22type%22%3A%20%22Point%22%2C%20%22coordinates%22%3A%20%5B-63.48057937%2C%2044.65470123%5D%7D%7D%2C%20%7B%22id%22%3A%20%2246%22%2C%20%22type%22%3A%20%22Feature%22%2C%20%22properties%22%3A%20%7B%22ACTCODE%22%3A%20%22car%22%2C%20%22DESTCODE%22%3A%20%22car%22%2C%20%22DURSEC%22%3A%20%222%22%2C%20%22EPISODEID%22%3A%20%2214640_20070403_17%22%2C%20%22TIMESTART%22%3A%20%2212%3A38%3A05%22%2C%20%22TRACKID%22%3A%20%2215325264%22%7D%2C%20%22geometry%22%3A%20%7B%22type%22%3A%20%22Point%22%2C%20%22coordinates%22%3A%20%5B-63.48071289%2C%2044.65486145%5D%7D%7D%2C%20%7B%22id%22%3A%20%2247%22%2C%20%22type%22%3A%20%22Feature%22%2C%20%22properties%22%3A%20%7B%22ACTCODE%22%3A%20%22car%22%2C%20%22DESTCODE%22%3A%20%22car%22%2C%20%22DURSEC%22%3A%20%223%22%2C%20%22EPISODEID%22%3A%20%2214640_20070403_17%22%2C%20%22TIMESTART%22%3A%20%2212%3A38%3A08%22%2C%20%22TRACKID%22%3A%20%2215325265%22%7D%2C%20%22geometry%22%3A%20%7B%22type%22%3A%20%22Point%22%2C%20%22coordinates%22%3A%20%5B-63.48088073000001%2C%2044.65494155%5D%7D%7D%2C%20%7B%22id%22%3A%20%2248%22%2C%20%22type%22%3A%20%22Feature%22%2C%20%22properties%22%3A%20%7B%22ACTCODE%22%3A%20%22car%22%2C%20%22DESTCODE%22%3A%20%22car%22%2C%20%22DURSEC%22%3A%20%222%22%2C%20%22EPISODEID%22%3A%20%2214640_20070403_17%22%2C%20%22TIMESTART%22%3A%20%2212%3A38%3A10%22%2C%20%22TRACKID%22%3A%20%2215325266%22%7D%2C%20%22geometry%22%3A%20%7B%22type%22%3A%20%22Point%22%2C%20%22coordinates%22%3A%20%5B-63.48106384%2C%2044.65491867%5D%7D%7D%2C%20%7B%22id%22%3A%20%2249%22%2C%20%22type%22%3A%20%22Feature%22%2C%20%22properties%22%3A%20%7B%22ACTCODE%22%3A%20%22car%22%2C%20%22DESTCODE%22%3A%20%22car%22%2C%20%22DURSEC%22%3A%20%223%22%2C%20%22EPISODEID%22%3A%20%2214640_20070403_17%22%2C%20%22TIMESTART%22%3A%20%2212%3A38%3A13%22%2C%20%22TRACKID%22%3A%20%2215325267%22%7D%2C%20%22geometry%22%3A%20%7B%22type%22%3A%20%22Point%22%2C%20%22coordinates%22%3A%20%5B-63.4812889%2C%2044.65481948%5D%7D%7D%2C%20%7B%22id%22%3A%20%2250%22%2C%20%22type%22%3A%20%22Feature%22%2C%20%22properties%22%3A%20%7B%22ACTCODE%22%3A%20%22car%22%2C%20%22DESTCODE%22%3A%20%22car%22%2C%20%22DURSEC%22%3A%20%222%22%2C%20%22EPISODEID%22%3A%20%2214640_20070403_17%22%2C%20%22TIMESTART%22%3A%20%2212%3A38%3A15%22%2C%20%22TRACKID%22%3A%20%2215325268%22%7D%2C%20%22geometry%22%3A%20%7B%22type%22%3A%20%22Point%22%2C%20%22coordinates%22%3A%20%5B-63.48169326%2C%2044.654518120000006%5D%7D%7D%2C%20%7B%22id%22%3A%20%2251%22%2C%20%22type%22%3A%20%22Feature%22%2C%20%22properties%22%3A%20%7B%22ACTCODE%22%3A%20%22car%22%2C%20%22DESTCODE%22%3A%20%22car%22%2C%20%22DURSEC%22%3A%20%223%22%2C%20%22EPISODEID%22%3A%20%2214640_20070403_17%22%2C%20%22TIMESTART%22%3A%20%2212%3A38%3A18%22%2C%20%22TRACKID%22%3A%20%2215325269%22%7D%2C%20%22geometry%22%3A%20%7B%22type%22%3A%20%22Point%22%2C%20%22coordinates%22%3A%20%5B-63.48190307%2C%2044.65433502%5D%7D%7D%2C%20%7B%22id%22%3A%20%2252%22%2C%20%22type%22%3A%20%22Feature%22%2C%20%22properties%22%3A%20%7B%22ACTCODE%22%3A%20%22car%22%2C%20%22DESTCODE%22%3A%20%22car%22%2C%20%22DURSEC%22%3A%20%222%22%2C%20%22EPISODEID%22%3A%20%2214640_20070403_17%22%2C%20%22TIMESTART%22%3A%20%2212%3A38%3A20%22%2C%20%22TRACKID%22%3A%20%2215325270%22%7D%2C%20%22geometry%22%3A%20%7B%22type%22%3A%20%22Point%22%2C%20%22coordinates%22%3A%20%5B-63.48212051%2C%2044.65414428%5D%7D%7D%2C%20%7B%22id%22%3A%20%2253%22%2C%20%22type%22%3A%20%22Feature%22%2C%20%22properties%22%3A%20%7B%22ACTCODE%22%3A%20%22car%22%2C%20%22DESTCODE%22%3A%20%22car%22%2C%20%22DURSEC%22%3A%20%223%22%2C%20%22EPISODEID%22%3A%20%2214640_20070403_17%22%2C%20%22TIMESTART%22%3A%20%2212%3A38%3A23%22%2C%20%22TRACKID%22%3A%20%2215325271%22%7D%2C%20%22geometry%22%3A%20%7B%22type%22%3A%20%22Point%22%2C%20%22coordinates%22%3A%20%5B-63.48234939%2C%2044.65392683999999%5D%7D%7D%2C%20%7B%22id%22%3A%20%2254%22%2C%20%22type%22%3A%20%22Feature%22%2C%20%22properties%22%3A%20%7B%22ACTCODE%22%3A%20%22car%22%2C%20%22DESTCODE%22%3A%20%22car%22%2C%20%22DURSEC%22%3A%20%222%22%2C%20%22EPISODEID%22%3A%20%2214640_20070403_17%22%2C%20%22TIMESTART%22%3A%20%2212%3A38%3A25%22%2C%20%22TRACKID%22%3A%20%2215325272%22%7D%2C%20%22geometry%22%3A%20%7B%22type%22%3A%20%22Point%22%2C%20%22coordinates%22%3A%20%5B-63.48278808%2C%2044.65349578%5D%7D%7D%2C%20%7B%22id%22%3A%20%2255%22%2C%20%22type%22%3A%20%22Feature%22%2C%20%22properties%22%3A%20%7B%22ACTCODE%22%3A%20%22car%22%2C%20%22DESTCODE%22%3A%20%22car%22%2C%20%22DURSEC%22%3A%20%223%22%2C%20%22EPISODEID%22%3A%20%2214640_20070403_17%22%2C%20%22TIMESTART%22%3A%20%2212%3A38%3A28%22%2C%20%22TRACKID%22%3A%20%2215325273%22%7D%2C%20%22geometry%22%3A%20%7B%22type%22%3A%20%22Point%22%2C%20%22coordinates%22%3A%20%5B-63.48298263%2C%2044.65330123%5D%7D%7D%2C%20%7B%22id%22%3A%20%2256%22%2C%20%22type%22%3A%20%22Feature%22%2C%20%22properties%22%3A%20%7B%22ACTCODE%22%3A%20%22car%22%2C%20%22DESTCODE%22%3A%20%22car%22%2C%20%22DURSEC%22%3A%20%222%22%2C%20%22EPISODEID%22%3A%20%2214640_20070403_17%22%2C%20%22TIMESTART%22%3A%20%2212%3A38%3A30%22%2C%20%22TRACKID%22%3A%20%2215325274%22%7D%2C%20%22geometry%22%3A%20%7B%22type%22%3A%20%22Point%22%2C%20%22coordinates%22%3A%20%5B-63.48315047999999%2C%2044.6531372%5D%7D%7D%2C%20%7B%22id%22%3A%20%2257%22%2C%20%22type%22%3A%20%22Feature%22%2C%20%22properties%22%3A%20%7B%22ACTCODE%22%3A%20%22car%22%2C%20%22DESTCODE%22%3A%20%22car%22%2C%20%22DURSEC%22%3A%20%223%22%2C%20%22EPISODEID%22%3A%20%2214640_20070403_17%22%2C%20%22TIMESTART%22%3A%20%2212%3A38%3A33%22%2C%20%22TRACKID%22%3A%20%2215325275%22%7D%2C%20%22geometry%22%3A%20%7B%22type%22%3A%20%22Point%22%2C%20%22coordinates%22%3A%20%5B-63.48347854%2C%2044.65283584%5D%7D%7D%2C%20%7B%22id%22%3A%20%2258%22%2C%20%22type%22%3A%20%22Feature%22%2C%20%22properties%22%3A%20%7B%22ACTCODE%22%3A%20%22car%22%2C%20%22DESTCODE%22%3A%20%22car%22%2C%20%22DURSEC%22%3A%20%222%22%2C%20%22EPISODEID%22%3A%20%2214640_20070403_17%22%2C%20%22TIMESTART%22%3A%20%2212%3A38%3A35%22%2C%20%22TRACKID%22%3A%20%2215325276%22%7D%2C%20%22geometry%22%3A%20%7B%22type%22%3A%20%22Point%22%2C%20%22coordinates%22%3A%20%5B-63.48365782999999%2C%2044.652667990000005%5D%7D%7D%2C%20%7B%22id%22%3A%20%2259%22%2C%20%22type%22%3A%20%22Feature%22%2C%20%22properties%22%3A%20%7B%22ACTCODE%22%3A%20%22car%22%2C%20%22DESTCODE%22%3A%20%22car%22%2C%20%22DURSEC%22%3A%20%223%22%2C%20%22EPISODEID%22%3A%20%2214640_20070403_17%22%2C%20%22TIMESTART%22%3A%20%2212%3A38%3A38%22%2C%20%22TRACKID%22%3A%20%2215325277%22%7D%2C%20%22geometry%22%3A%20%7B%22type%22%3A%20%22Point%22%2C%20%22coordinates%22%3A%20%5B-63.48387527%2C%2044.65246582%5D%7D%7D%2C%20%7B%22id%22%3A%20%2260%22%2C%20%22type%22%3A%20%22Feature%22%2C%20%22properties%22%3A%20%7B%22ACTCODE%22%3A%20%22car%22%2C%20%22DESTCODE%22%3A%20%22car%22%2C%20%22DURSEC%22%3A%20%222%22%2C%20%22EPISODEID%22%3A%20%2214640_20070403_17%22%2C%20%22TIMESTART%22%3A%20%2212%3A38%3A40%22%2C%20%22TRACKID%22%3A%20%2215325278%22%7D%2C%20%22geometry%22%3A%20%7B%22type%22%3A%20%22Point%22%2C%20%22coordinates%22%3A%20%5B-63.48429489%2C%2044.65206527000001%5D%7D%7D%2C%20%7B%22id%22%3A%20%2261%22%2C%20%22type%22%3A%20%22Feature%22%2C%20%22properties%22%3A%20%7B%22ACTCODE%22%3A%20%22car%22%2C%20%22DESTCODE%22%3A%20%22car%22%2C%20%22DURSEC%22%3A%20%223%22%2C%20%22EPISODEID%22%3A%20%2214640_20070403_17%22%2C%20%22TIMESTART%22%3A%20%2212%3A38%3A43%22%2C%20%22TRACKID%22%3A%20%2215325279%22%7D%2C%20%22geometry%22%3A%20%7B%22type%22%3A%20%22Point%22%2C%20%22coordinates%22%3A%20%5B-63.48449707%2C%2044.65187454%5D%7D%7D%2C%20%7B%22id%22%3A%20%2262%22%2C%20%22type%22%3A%20%22Feature%22%2C%20%22properties%22%3A%20%7B%22ACTCODE%22%3A%20%22car%22%2C%20%22DESTCODE%22%3A%20%22car%22%2C%20%22DURSEC%22%3A%20%223%22%2C%20%22EPISODEID%22%3A%20%2214640_20070403_17%22%2C%20%22TIMESTART%22%3A%20%2212%3A38%3A46%22%2C%20%22TRACKID%22%3A%20%2215325280%22%7D%2C%20%22geometry%22%3A%20%7B%22type%22%3A%20%22Point%22%2C%20%22coordinates%22%3A%20%5B-63.48469924%2C%2044.65173339%5D%7D%7D%2C%20%7B%22id%22%3A%20%2263%22%2C%20%22type%22%3A%20%22Feature%22%2C%20%22properties%22%3A%20%7B%22ACTCODE%22%3A%20%22car%22%2C%20%22DESTCODE%22%3A%20%22car%22%2C%20%22DURSEC%22%3A%20%222%22%2C%20%22EPISODEID%22%3A%20%2214640_20070403_17%22%2C%20%22TIMESTART%22%3A%20%2212%3A38%3A48%22%2C%20%22TRACKID%22%3A%20%2215325281%22%7D%2C%20%22geometry%22%3A%20%7B%22type%22%3A%20%22Point%22%2C%20%22coordinates%22%3A%20%5B-63.484939569999995%2C%2044.65163420999999%5D%7D%7D%2C%20%7B%22id%22%3A%20%2264%22%2C%20%22type%22%3A%20%22Feature%22%2C%20%22properties%22%3A%20%7B%22ACTCODE%22%3A%20%22car%22%2C%20%22DESTCODE%22%3A%20%22car%22%2C%20%22DURSEC%22%3A%20%223%22%2C%20%22EPISODEID%22%3A%20%2214640_20070403_17%22%2C%20%22TIMESTART%22%3A%20%2212%3A38%3A51%22%2C%20%22TRACKID%22%3A%20%2215325282%22%7D%2C%20%22geometry%22%3A%20%7B%22type%22%3A%20%22Point%22%2C%20%22coordinates%22%3A%20%5B-63.485351560000005%2C%2044.65150451%5D%7D%7D%2C%20%7B%22id%22%3A%20%2265%22%2C%20%22type%22%3A%20%22Feature%22%2C%20%22properties%22%3A%20%7B%22ACTCODE%22%3A%20%22car%22%2C%20%22DESTCODE%22%3A%20%22car%22%2C%20%22DURSEC%22%3A%20%222%22%2C%20%22EPISODEID%22%3A%20%2214640_20070403_17%22%2C%20%22TIMESTART%22%3A%20%2212%3A38%3A53%22%2C%20%22TRACKID%22%3A%20%2215325283%22%7D%2C%20%22geometry%22%3A%20%7B%22type%22%3A%20%22Point%22%2C%20%22coordinates%22%3A%20%5B-63.48542022%2C%2044.65148925%5D%7D%7D%2C%20%7B%22id%22%3A%20%2266%22%2C%20%22type%22%3A%20%22Feature%22%2C%20%22properties%22%3A%20%7B%22ACTCODE%22%3A%20%22car%22%2C%20%22DESTCODE%22%3A%20%22car%22%2C%20%22DURSEC%22%3A%20%223%22%2C%20%22EPISODEID%22%3A%20%2214640_20070403_17%22%2C%20%22TIMESTART%22%3A%20%2212%3A38%3A56%22%2C%20%22TRACKID%22%3A%20%2215325284%22%7D%2C%20%22geometry%22%3A%20%7B%22type%22%3A%20%22Point%22%2C%20%22coordinates%22%3A%20%5B-63.48545074%2C%2044.65148925%5D%7D%7D%2C%20%7B%22id%22%3A%20%2267%22%2C%20%22type%22%3A%20%22Feature%22%2C%20%22properties%22%3A%20%7B%22ACTCODE%22%3A%20%22car%22%2C%20%22DESTCODE%22%3A%20%22car%22%2C%20%22DURSEC%22%3A%20%2212%22%2C%20%22EPISODEID%22%3A%20%2214640_20070403_17%22%2C%20%22TIMESTART%22%3A%20%2212%3A39%3A08%22%2C%20%22TRACKID%22%3A%20%2215325289%22%7D%2C%20%22geometry%22%3A%20%7B%22type%22%3A%20%22Point%22%2C%20%22coordinates%22%3A%20%5B-63.485538479999995%2C%2044.65138626%5D%7D%7D%2C%20%7B%22id%22%3A%20%2268%22%2C%20%22type%22%3A%20%22Feature%22%2C%20%22properties%22%3A%20%7B%22ACTCODE%22%3A%20%22car%22%2C%20%22DESTCODE%22%3A%20%22car%22%2C%20%22DURSEC%22%3A%20%223%22%2C%20%22EPISODEID%22%3A%20%2214640_20070403_17%22%2C%20%22TIMESTART%22%3A%20%2212%3A39%3A11%22%2C%20%22TRACKID%22%3A%20%2215325290%22%7D%2C%20%22geometry%22%3A%20%7B%22type%22%3A%20%22Point%22%2C%20%22coordinates%22%3A%20%5B-63.48545074%2C%2044.65122222%5D%7D%7D%2C%20%7B%22id%22%3A%20%2269%22%2C%20%22type%22%3A%20%22Feature%22%2C%20%22properties%22%3A%20%7B%22ACTCODE%22%3A%20%22car%22%2C%20%22DESTCODE%22%3A%20%22car%22%2C%20%22DURSEC%22%3A%20%222%22%2C%20%22EPISODEID%22%3A%20%2214640_20070403_17%22%2C%20%22TIMESTART%22%3A%20%2212%3A39%3A13%22%2C%20%22TRACKID%22%3A%20%2215325291%22%7D%2C%20%22geometry%22%3A%20%7B%22type%22%3A%20%22Point%22%2C%20%22coordinates%22%3A%20%5B-63.48526382%2C%2044.65097045%5D%7D%7D%2C%20%7B%22id%22%3A%20%2270%22%2C%20%22type%22%3A%20%22Feature%22%2C%20%22properties%22%3A%20%7B%22ACTCODE%22%3A%20%22car%22%2C%20%22DESTCODE%22%3A%20%22car%22%2C%20%22DURSEC%22%3A%20%223%22%2C%20%22EPISODEID%22%3A%20%2214640_20070403_17%22%2C%20%22TIMESTART%22%3A%20%2212%3A39%3A16%22%2C%20%22TRACKID%22%3A%20%2215325292%22%7D%2C%20%22geometry%22%3A%20%7B%22type%22%3A%20%22Point%22%2C%20%22coordinates%22%3A%20%5B-63.484897610000004%2C%2044.65060423999999%5D%7D%7D%2C%20%7B%22id%22%3A%20%2271%22%2C%20%22type%22%3A%20%22Feature%22%2C%20%22properties%22%3A%20%7B%22ACTCODE%22%3A%20%22car%22%2C%20%22DESTCODE%22%3A%20%22car%22%2C%20%22DURSEC%22%3A%20%222%22%2C%20%22EPISODEID%22%3A%20%2214640_20070403_17%22%2C%20%22TIMESTART%22%3A%20%2212%3A39%3A18%22%2C%20%22TRACKID%22%3A%20%2215325293%22%7D%2C%20%22geometry%22%3A%20%7B%22type%22%3A%20%22Point%22%2C%20%22coordinates%22%3A%20%5B-63.48473738999999%2C%2044.65045166%5D%7D%7D%2C%20%7B%22id%22%3A%20%2272%22%2C%20%22type%22%3A%20%22Feature%22%2C%20%22properties%22%3A%20%7B%22ACTCODE%22%3A%20%22car%22%2C%20%22DESTCODE%22%3A%20%22car%22%2C%20%22DURSEC%22%3A%20%222%22%2C%20%22EPISODEID%22%3A%20%2214640_20070403_17%22%2C%20%22TIMESTART%22%3A%20%2212%3A39%3A20%22%2C%20%22TRACKID%22%3A%20%2215325294%22%7D%2C%20%22geometry%22%3A%20%7B%22type%22%3A%20%22Point%22%2C%20%22coordinates%22%3A%20%5B-63.48456954%2C%2044.65032958%5D%7D%7D%2C%20%7B%22id%22%3A%20%2273%22%2C%20%22type%22%3A%20%22Feature%22%2C%20%22properties%22%3A%20%7B%22ACTCODE%22%3A%20%22car%22%2C%20%22DESTCODE%22%3A%20%22car%22%2C%20%22DURSEC%22%3A%20%223%22%2C%20%22EPISODEID%22%3A%20%2214640_20070403_17%22%2C%20%22TIMESTART%22%3A%20%2212%3A39%3A23%22%2C%20%22TRACKID%22%3A%20%2215325295%22%7D%2C%20%22geometry%22%3A%20%7B%22type%22%3A%20%22Point%22%2C%20%22coordinates%22%3A%20%5B-63.48415756%2C%2044.64999389%5D%7D%7D%2C%20%7B%22id%22%3A%20%2274%22%2C%20%22type%22%3A%20%22Feature%22%2C%20%22properties%22%3A%20%7B%22ACTCODE%22%3A%20%22car%22%2C%20%22DESTCODE%22%3A%20%22car%22%2C%20%22DURSEC%22%3A%20%222%22%2C%20%22EPISODEID%22%3A%20%2214640_20070403_17%22%2C%20%22TIMESTART%22%3A%20%2212%3A39%3A25%22%2C%20%22TRACKID%22%3A%20%2215325296%22%7D%2C%20%22geometry%22%3A%20%7B%22type%22%3A%20%22Point%22%2C%20%22coordinates%22%3A%20%5B-63.48389433999999%2C%2044.64981079%5D%7D%7D%2C%20%7B%22id%22%3A%20%2275%22%2C%20%22type%22%3A%20%22Feature%22%2C%20%22properties%22%3A%20%7B%22ACTCODE%22%3A%20%22car%22%2C%20%22DESTCODE%22%3A%20%22car%22%2C%20%22DURSEC%22%3A%20%223%22%2C%20%22EPISODEID%22%3A%20%2214640_20070403_17%22%2C%20%22TIMESTART%22%3A%20%2212%3A39%3A28%22%2C%20%22TRACKID%22%3A%20%2215325297%22%7D%2C%20%22geometry%22%3A%20%7B%22type%22%3A%20%22Point%22%2C%20%22coordinates%22%3A%20%5B-63.48364638999999%2C%2044.64962768000001%5D%7D%7D%2C%20%7B%22id%22%3A%20%2276%22%2C%20%22type%22%3A%20%22Feature%22%2C%20%22properties%22%3A%20%7B%22ACTCODE%22%3A%20%22car%22%2C%20%22DESTCODE%22%3A%20%22car%22%2C%20%22DURSEC%22%3A%20%223%22%2C%20%22EPISODEID%22%3A%20%2214640_20070403_17%22%2C%20%22TIMESTART%22%3A%20%2212%3A39%3A31%22%2C%20%22TRACKID%22%3A%20%2215325298%22%7D%2C%20%22geometry%22%3A%20%7B%22type%22%3A%20%22Point%22%2C%20%22coordinates%22%3A%20%5B-63.48326873%2C%2044.649169920000006%5D%7D%7D%2C%20%7B%22id%22%3A%20%2277%22%2C%20%22type%22%3A%20%22Feature%22%2C%20%22properties%22%3A%20%7B%22ACTCODE%22%3A%20%22car%22%2C%20%22DESTCODE%22%3A%20%22car%22%2C%20%22DURSEC%22%3A%20%222%22%2C%20%22EPISODEID%22%3A%20%2214640_20070403_17%22%2C%20%22TIMESTART%22%3A%20%2212%3A39%3A33%22%2C%20%22TRACKID%22%3A%20%2215325299%22%7D%2C%20%22geometry%22%3A%20%7B%22type%22%3A%20%22Point%22%2C%20%22coordinates%22%3A%20%5B-63.4831047%2C%2044.64892578%5D%7D%7D%2C%20%7B%22id%22%3A%20%2278%22%2C%20%22type%22%3A%20%22Feature%22%2C%20%22properties%22%3A%20%7B%22ACTCODE%22%3A%20%22car%22%2C%20%22DESTCODE%22%3A%20%22car%22%2C%20%22DURSEC%22%3A%20%222%22%2C%20%22EPISODEID%22%3A%20%2214640_20070403_17%22%2C%20%22TIMESTART%22%3A%20%2212%3A39%3A35%22%2C%20%22TRACKID%22%3A%20%2215325300%22%7D%2C%20%22geometry%22%3A%20%7B%22type%22%3A%20%22Point%22%2C%20%22coordinates%22%3A%20%5B-63.48297119%2C%2044.64865111999999%5D%7D%7D%2C%20%7B%22id%22%3A%20%2279%22%2C%20%22type%22%3A%20%22Feature%22%2C%20%22properties%22%3A%20%7B%22ACTCODE%22%3A%20%22car%22%2C%20%22DESTCODE%22%3A%20%22car%22%2C%20%22DURSEC%22%3A%20%223%22%2C%20%22EPISODEID%22%3A%20%2214640_20070403_17%22%2C%20%22TIMESTART%22%3A%20%2212%3A39%3A38%22%2C%20%22TRACKID%22%3A%20%2215325301%22%7D%2C%20%22geometry%22%3A%20%7B%22type%22%3A%20%22Point%22%2C%20%22coordinates%22%3A%20%5B-63.48283386%2C%2044.64839553%5D%7D%7D%2C%20%7B%22id%22%3A%20%2280%22%2C%20%22type%22%3A%20%22Feature%22%2C%20%22properties%22%3A%20%7B%22ACTCODE%22%3A%20%22car%22%2C%20%22DESTCODE%22%3A%20%22car%22%2C%20%22DURSEC%22%3A%20%223%22%2C%20%22EPISODEID%22%3A%20%2214640_20070403_17%22%2C%20%22TIMESTART%22%3A%20%2212%3A39%3A41%22%2C%20%22TRACKID%22%3A%20%2215325302%22%7D%2C%20%22geometry%22%3A%20%7B%22type%22%3A%20%22Point%22%2C%20%22coordinates%22%3A%20%5B-63.48260498%2C%2044.64785385%5D%7D%7D%2C%20%7B%22id%22%3A%20%2281%22%2C%20%22type%22%3A%20%22Feature%22%2C%20%22properties%22%3A%20%7B%22ACTCODE%22%3A%20%22car%22%2C%20%22DESTCODE%22%3A%20%22car%22%2C%20%22DURSEC%22%3A%20%222%22%2C%20%22EPISODEID%22%3A%20%2214640_20070403_17%22%2C%20%22TIMESTART%22%3A%20%2212%3A39%3A43%22%2C%20%22TRACKID%22%3A%20%2215325303%22%7D%2C%20%22geometry%22%3A%20%7B%22type%22%3A%20%22Point%22%2C%20%22coordinates%22%3A%20%5B-63.482471460000006%2C%2044.647579189999995%5D%7D%7D%2C%20%7B%22id%22%3A%20%2282%22%2C%20%22type%22%3A%20%22Feature%22%2C%20%22properties%22%3A%20%7B%22ACTCODE%22%3A%20%22car%22%2C%20%22DESTCODE%22%3A%20%22car%22%2C%20%22DURSEC%22%3A%20%223%22%2C%20%22EPISODEID%22%3A%20%2214640_20070403_17%22%2C%20%22TIMESTART%22%3A%20%2212%3A39%3A46%22%2C%20%22TRACKID%22%3A%20%2215325304%22%7D%2C%20%22geometry%22%3A%20%7B%22type%22%3A%20%22Point%22%2C%20%22coordinates%22%3A%20%5B-63.482295979999996%2C%2044.647312160000006%5D%7D%7D%2C%20%7B%22id%22%3A%20%2283%22%2C%20%22type%22%3A%20%22Feature%22%2C%20%22properties%22%3A%20%7B%22ACTCODE%22%3A%20%22car%22%2C%20%22DESTCODE%22%3A%20%22car%22%2C%20%22DURSEC%22%3A%20%222%22%2C%20%22EPISODEID%22%3A%20%2214640_20070403_17%22%2C%20%22TIMESTART%22%3A%20%2212%3A39%3A48%22%2C%20%22TRACKID%22%3A%20%2215325305%22%7D%2C%20%22geometry%22%3A%20%7B%22type%22%3A%20%22Point%22%2C%20%22coordinates%22%3A%20%5B-63.482040399999995%2C%2044.64704513%5D%7D%7D%2C%20%7B%22id%22%3A%20%2284%22%2C%20%22type%22%3A%20%22Feature%22%2C%20%22properties%22%3A%20%7B%22ACTCODE%22%3A%20%22car%22%2C%20%22DESTCODE%22%3A%20%22car%22%2C%20%22DURSEC%22%3A%20%223%22%2C%20%22EPISODEID%22%3A%20%2214640_20070403_17%22%2C%20%22TIMESTART%22%3A%20%2212%3A39%3A51%22%2C%20%22TRACKID%22%3A%20%2215325306%22%7D%2C%20%22geometry%22%3A%20%7B%22type%22%3A%20%22Point%22%2C%20%22coordinates%22%3A%20%5B-63.48147964%2C%2044.64656066%5D%7D%7D%2C%20%7B%22id%22%3A%20%2285%22%2C%20%22type%22%3A%20%22Feature%22%2C%20%22properties%22%3A%20%7B%22ACTCODE%22%3A%20%22car%22%2C%20%22DESTCODE%22%3A%20%22car%22%2C%20%22DURSEC%22%3A%20%222%22%2C%20%22EPISODEID%22%3A%20%2214640_20070403_17%22%2C%20%22TIMESTART%22%3A%20%2212%3A39%3A53%22%2C%20%22TRACKID%22%3A%20%2215325307%22%7D%2C%20%22geometry%22%3A%20%7B%22type%22%3A%20%22Point%22%2C%20%22coordinates%22%3A%20%5B-63.481182090000004%2C%2044.64631652%5D%7D%7D%2C%20%7B%22id%22%3A%20%2286%22%2C%20%22type%22%3A%20%22Feature%22%2C%20%22properties%22%3A%20%7B%22ACTCODE%22%3A%20%22car%22%2C%20%22DESTCODE%22%3A%20%22car%22%2C%20%22DURSEC%22%3A%20%223%22%2C%20%22EPISODEID%22%3A%20%2214640_20070403_17%22%2C%20%22TIMESTART%22%3A%20%2212%3A39%3A56%22%2C%20%22TRACKID%22%3A%20%2215325308%22%7D%2C%20%22geometry%22%3A%20%7B%22type%22%3A%20%22Point%22%2C%20%22coordinates%22%3A%20%5B-63.48090362000001%2C%2044.64608383%5D%7D%7D%2C%20%7B%22id%22%3A%20%2287%22%2C%20%22type%22%3A%20%22Feature%22%2C%20%22properties%22%3A%20%7B%22ACTCODE%22%3A%20%22car%22%2C%20%22DESTCODE%22%3A%20%22car%22%2C%20%22DURSEC%22%3A%20%222%22%2C%20%22EPISODEID%22%3A%20%2214640_20070403_17%22%2C%20%22TIMESTART%22%3A%20%2212%3A39%3A58%22%2C%20%22TRACKID%22%3A%20%2215325309%22%7D%2C%20%22geometry%22%3A%20%7B%22type%22%3A%20%22Point%22%2C%20%22coordinates%22%3A%20%5B-63.480655670000004%2C%2044.64583587%5D%7D%7D%2C%20%7B%22id%22%3A%20%2288%22%2C%20%22type%22%3A%20%22Feature%22%2C%20%22properties%22%3A%20%7B%22ACTCODE%22%3A%20%22car%22%2C%20%22DESTCODE%22%3A%20%22car%22%2C%20%22DURSEC%22%3A%20%223%22%2C%20%22EPISODEID%22%3A%20%2214640_20070403_17%22%2C%20%22TIMESTART%22%3A%20%2212%3A40%3A01%22%2C%20%22TRACKID%22%3A%20%2215325310%22%7D%2C%20%22geometry%22%3A%20%7B%22type%22%3A%20%22Point%22%2C%20%22coordinates%22%3A%20%5B-63.48029326999999%2C%2044.64534378%5D%7D%7D%2C%20%7B%22id%22%3A%20%2289%22%2C%20%22type%22%3A%20%22Feature%22%2C%20%22properties%22%3A%20%7B%22ACTCODE%22%3A%20%22car%22%2C%20%22DESTCODE%22%3A%20%22car%22%2C%20%22DURSEC%22%3A%20%222%22%2C%20%22EPISODEID%22%3A%20%2214640_20070403_17%22%2C%20%22TIMESTART%22%3A%20%2212%3A40%3A03%22%2C%20%22TRACKID%22%3A%20%2215325311%22%7D%2C%20%22geometry%22%3A%20%7B%22type%22%3A%20%22Point%22%2C%20%22coordinates%22%3A%20%5B-63.480209349999996%2C%2044.64513015000001%5D%7D%7D%2C%20%7B%22id%22%3A%20%2290%22%2C%20%22type%22%3A%20%22Feature%22%2C%20%22properties%22%3A%20%7B%22ACTCODE%22%3A%20%22car%22%2C%20%22DESTCODE%22%3A%20%22car%22%2C%20%22DURSEC%22%3A%20%223%22%2C%20%22EPISODEID%22%3A%20%2214640_20070403_17%22%2C%20%22TIMESTART%22%3A%20%2212%3A40%3A06%22%2C%20%22TRACKID%22%3A%20%2215325312%22%7D%2C%20%22geometry%22%3A%20%7B%22type%22%3A%20%22Point%22%2C%20%22coordinates%22%3A%20%5B-63.48015594000001%2C%2044.64494705%5D%7D%7D%2C%20%7B%22id%22%3A%20%2291%22%2C%20%22type%22%3A%20%22Feature%22%2C%20%22properties%22%3A%20%7B%22ACTCODE%22%3A%20%22car%22%2C%20%22DESTCODE%22%3A%20%22car%22%2C%20%22DURSEC%22%3A%20%222%22%2C%20%22EPISODEID%22%3A%20%2214640_20070403_17%22%2C%20%22TIMESTART%22%3A%20%2212%3A40%3A08%22%2C%20%22TRACKID%22%3A%20%2215325313%22%7D%2C%20%22geometry%22%3A%20%7B%22type%22%3A%20%22Point%22%2C%20%22coordinates%22%3A%20%5B-63.48015213000001%2C%2044.64485168%5D%7D%7D%2C%20%7B%22id%22%3A%20%2292%22%2C%20%22type%22%3A%20%22Feature%22%2C%20%22properties%22%3A%20%7B%22ACTCODE%22%3A%20%22car%22%2C%20%22DESTCODE%22%3A%20%22car%22%2C%20%22DURSEC%22%3A%20%223%22%2C%20%22EPISODEID%22%3A%20%2214640_20070403_17%22%2C%20%22TIMESTART%22%3A%20%2212%3A40%3A11%22%2C%20%22TRACKID%22%3A%20%2215325314%22%7D%2C%20%22geometry%22%3A%20%7B%22type%22%3A%20%22Point%22%2C%20%22coordinates%22%3A%20%5B-63.48017120000001%2C%2044.64477538999999%5D%7D%7D%2C%20%7B%22id%22%3A%20%2293%22%2C%20%22type%22%3A%20%22Feature%22%2C%20%22properties%22%3A%20%7B%22ACTCODE%22%3A%20%22car%22%2C%20%22DESTCODE%22%3A%20%22car%22%2C%20%22DURSEC%22%3A%20%222%22%2C%20%22EPISODEID%22%3A%20%2214640_20070403_17%22%2C%20%22TIMESTART%22%3A%20%2212%3A40%3A13%22%2C%20%22TRACKID%22%3A%20%2215325315%22%7D%2C%20%22geometry%22%3A%20%7B%22type%22%3A%20%22Point%22%2C%20%22coordinates%22%3A%20%5B-63.48011398%2C%2044.64473724%5D%7D%7D%2C%20%7B%22id%22%3A%20%2294%22%2C%20%22type%22%3A%20%22Feature%22%2C%20%22properties%22%3A%20%7B%22ACTCODE%22%3A%20%22car%22%2C%20%22DESTCODE%22%3A%20%22car%22%2C%20%22DURSEC%22%3A%20%223%22%2C%20%22EPISODEID%22%3A%20%2214640_20070403_17%22%2C%20%22TIMESTART%22%3A%20%2212%3A40%3A16%22%2C%20%22TRACKID%22%3A%20%2215325316%22%7D%2C%20%22geometry%22%3A%20%7B%22type%22%3A%20%22Point%22%2C%20%22coordinates%22%3A%20%5B-63.47994995%2C%2044.64471435%5D%7D%7D%2C%20%7B%22id%22%3A%20%2295%22%2C%20%22type%22%3A%20%22Feature%22%2C%20%22properties%22%3A%20%7B%22ACTCODE%22%3A%20%22car%22%2C%20%22DESTCODE%22%3A%20%22car%22%2C%20%22DURSEC%22%3A%20%222%22%2C%20%22EPISODEID%22%3A%20%2214640_20070403_17%22%2C%20%22TIMESTART%22%3A%20%2212%3A40%3A18%22%2C%20%22TRACKID%22%3A%20%2215325317%22%7D%2C%20%22geometry%22%3A%20%7B%22type%22%3A%20%22Point%22%2C%20%22coordinates%22%3A%20%5B-63.47938156%2C%2044.644660939999994%5D%7D%7D%2C%20%7B%22id%22%3A%20%2296%22%2C%20%22type%22%3A%20%22Feature%22%2C%20%22properties%22%3A%20%7B%22ACTCODE%22%3A%20%22car%22%2C%20%22DESTCODE%22%3A%20%22car%22%2C%20%22DURSEC%22%3A%20%223%22%2C%20%22EPISODEID%22%3A%20%2214640_20070403_17%22%2C%20%22TIMESTART%22%3A%20%2212%3A40%3A21%22%2C%20%22TRACKID%22%3A%20%2215325318%22%7D%2C%20%22geometry%22%3A%20%7B%22type%22%3A%20%22Point%22%2C%20%22coordinates%22%3A%20%5B-63.47904205%2C%2044.64463424%5D%7D%7D%2C%20%7B%22id%22%3A%20%2297%22%2C%20%22type%22%3A%20%22Feature%22%2C%20%22properties%22%3A%20%7B%22ACTCODE%22%3A%20%22car%22%2C%20%22DESTCODE%22%3A%20%22car%22%2C%20%22DURSEC%22%3A%20%222%22%2C%20%22EPISODEID%22%3A%20%2214640_20070403_17%22%2C%20%22TIMESTART%22%3A%20%2212%3A40%3A23%22%2C%20%22TRACKID%22%3A%20%2215325319%22%7D%2C%20%22geometry%22%3A%20%7B%22type%22%3A%20%22Point%22%2C%20%22coordinates%22%3A%20%5B-63.47869109999999%2C%2044.64460372%5D%7D%7D%2C%20%7B%22id%22%3A%20%2298%22%2C%20%22type%22%3A%20%22Feature%22%2C%20%22properties%22%3A%20%7B%22ACTCODE%22%3A%20%22car%22%2C%20%22DESTCODE%22%3A%20%22car%22%2C%20%22DURSEC%22%3A%20%223%22%2C%20%22EPISODEID%22%3A%20%2214640_20070403_17%22%2C%20%22TIMESTART%22%3A%20%2212%3A40%3A26%22%2C%20%22TRACKID%22%3A%20%2215325320%22%7D%2C%20%22geometry%22%3A%20%7B%22type%22%3A%20%22Point%22%2C%20%22coordinates%22%3A%20%5B-63.47815322%2C%2044.64446639999999%5D%7D%7D%2C%20%7B%22id%22%3A%20%2299%22%2C%20%22type%22%3A%20%22Feature%22%2C%20%22properties%22%3A%20%7B%22ACTCODE%22%3A%20%22car%22%2C%20%22DESTCODE%22%3A%20%22car%22%2C%20%22DURSEC%22%3A%20%222%22%2C%20%22EPISODEID%22%3A%20%2214640_20070403_17%22%2C%20%22TIMESTART%22%3A%20%2212%3A40%3A28%22%2C%20%22TRACKID%22%3A%20%2215325321%22%7D%2C%20%22geometry%22%3A%20%7B%22type%22%3A%20%22Point%22%2C%20%22coordinates%22%3A%20%5B-63.4779396%2C%2044.64447783999999%5D%7D%7D%2C%20%7B%22id%22%3A%20%22100%22%2C%20%22type%22%3A%20%22Feature%22%2C%20%22properties%22%3A%20%7B%22ACTCODE%22%3A%20%22car%22%2C%20%22DESTCODE%22%3A%20%22car%22%2C%20%22DURSEC%22%3A%20%223%22%2C%20%22EPISODEID%22%3A%20%2214640_20070403_17%22%2C%20%22TIMESTART%22%3A%20%2212%3A40%3A31%22%2C%20%22TRACKID%22%3A%20%2215325322%22%7D%2C%20%22geometry%22%3A%20%7B%22type%22%3A%20%22Point%22%2C%20%22coordinates%22%3A%20%5B-63.47777938000001%2C%2044.64456176%5D%7D%7D%2C%20%7B%22id%22%3A%20%22101%22%2C%20%22type%22%3A%20%22Feature%22%2C%20%22properties%22%3A%20%7B%22ACTCODE%22%3A%20%22car%22%2C%20%22DESTCODE%22%3A%20%22car%22%2C%20%22DURSEC%22%3A%20%222%22%2C%20%22EPISODEID%22%3A%20%2214640_20070403_17%22%2C%20%22TIMESTART%22%3A%20%2212%3A40%3A33%22%2C%20%22TRACKID%22%3A%20%2215325323%22%7D%2C%20%22geometry%22%3A%20%7B%22type%22%3A%20%22Point%22%2C%20%22coordinates%22%3A%20%5B-63.4776802%2C%2044.64468002%5D%7D%7D%2C%20%7B%22id%22%3A%20%22102%22%2C%20%22type%22%3A%20%22Feature%22%2C%20%22properties%22%3A%20%7B%22ACTCODE%22%3A%20%22car%22%2C%20%22DESTCODE%22%3A%20%22car%22%2C%20%22DURSEC%22%3A%20%2223%22%2C%20%22EPISODEID%22%3A%20%2214640_20070403_17%22%2C%20%22TIMESTART%22%3A%20%2212%3A40%3A56%22%2C%20%22TRACKID%22%3A%20%2215325332%22%7D%2C%20%22geometry%22%3A%20%7B%22type%22%3A%20%22Point%22%2C%20%22coordinates%22%3A%20%5B-63.47772598000001%2C%2044.64476775999999%5D%7D%7D%2C%20%7B%22id%22%3A%20%22103%22%2C%20%22type%22%3A%20%22Feature%22%2C%20%22properties%22%3A%20%7B%22ACTCODE%22%3A%20%22car%22%2C%20%22DESTCODE%22%3A%20%22car%22%2C%20%22DURSEC%22%3A%20%2240%22%2C%20%22EPISODEID%22%3A%20%2214640_20070403_17%22%2C%20%22TIMESTART%22%3A%20%2212%3A41%3A36%22%2C%20%22TRACKID%22%3A%20%2215325348%22%7D%2C%20%22geometry%22%3A%20%7B%22type%22%3A%20%22Point%22%2C%20%22coordinates%22%3A%20%5B-63.47771453%2C%2044.64478683%5D%7D%7D%2C%20%7B%22id%22%3A%20%22104%22%2C%20%22type%22%3A%20%22Feature%22%2C%20%22properties%22%3A%20%7B%22ACTCODE%22%3A%20%22car%22%2C%20%22DESTCODE%22%3A%20%22car%22%2C%20%22DURSEC%22%3A%20%223%22%2C%20%22EPISODEID%22%3A%20%2214640_20070403_17%22%2C%20%22TIMESTART%22%3A%20%2212%3A41%3A39%22%2C%20%22TRACKID%22%3A%20%2215325349%22%7D%2C%20%22geometry%22%3A%20%7B%22type%22%3A%20%22Point%22%2C%20%22coordinates%22%3A%20%5B-63.47766493999999%2C%2044.64484405%5D%7D%7D%2C%20%7B%22id%22%3A%20%22105%22%2C%20%22type%22%3A%20%22Feature%22%2C%20%22properties%22%3A%20%7B%22ACTCODE%22%3A%20%22car%22%2C%20%22DESTCODE%22%3A%20%22car%22%2C%20%22DURSEC%22%3A%20%222%22%2C%20%22EPISODEID%22%3A%20%2214640_20070403_17%22%2C%20%22TIMESTART%22%3A%20%2212%3A41%3A41%22%2C%20%22TRACKID%22%3A%20%2215325350%22%7D%2C%20%22geometry%22%3A%20%7B%22type%22%3A%20%22Point%22%2C%20%22coordinates%22%3A%20%5B-63.47743988%2C%2044.64508056%5D%7D%7D%2C%20%7B%22id%22%3A%20%22106%22%2C%20%22type%22%3A%20%22Feature%22%2C%20%22properties%22%3A%20%7B%22ACTCODE%22%3A%20%22car%22%2C%20%22DESTCODE%22%3A%20%22car%22%2C%20%22DURSEC%22%3A%20%223%22%2C%20%22EPISODEID%22%3A%20%2214640_20070403_17%22%2C%20%22TIMESTART%22%3A%20%2212%3A41%3A44%22%2C%20%22TRACKID%22%3A%20%2215325351%22%7D%2C%20%22geometry%22%3A%20%7B%22type%22%3A%20%22Point%22%2C%20%22coordinates%22%3A%20%5B-63.47728347%2C%2044.64524459%5D%7D%7D%2C%20%7B%22id%22%3A%20%22107%22%2C%20%22type%22%3A%20%22Feature%22%2C%20%22properties%22%3A%20%7B%22ACTCODE%22%3A%20%22car%22%2C%20%22DESTCODE%22%3A%20%22car%22%2C%20%22DURSEC%22%3A%20%222%22%2C%20%22EPISODEID%22%3A%20%2214640_20070403_17%22%2C%20%22TIMESTART%22%3A%20%2212%3A41%3A46%22%2C%20%22TRACKID%22%3A%20%2215325352%22%7D%2C%20%22geometry%22%3A%20%7B%22type%22%3A%20%22Point%22%2C%20%22coordinates%22%3A%20%5B-63.47707748%2C%2044.64545059%5D%7D%7D%2C%20%7B%22id%22%3A%20%22108%22%2C%20%22type%22%3A%20%22Feature%22%2C%20%22properties%22%3A%20%7B%22ACTCODE%22%3A%20%22car%22%2C%20%22DESTCODE%22%3A%20%22car%22%2C%20%22DURSEC%22%3A%20%223%22%2C%20%22EPISODEID%22%3A%20%2214640_20070403_17%22%2C%20%22TIMESTART%22%3A%20%2212%3A41%3A49%22%2C%20%22TRACKID%22%3A%20%2215325353%22%7D%2C%20%22geometry%22%3A%20%7B%22type%22%3A%20%22Point%22%2C%20%22coordinates%22%3A%20%5B-63.476890559999994%2C%2044.64562606%5D%7D%7D%2C%20%7B%22id%22%3A%20%22109%22%2C%20%22type%22%3A%20%22Feature%22%2C%20%22properties%22%3A%20%7B%22ACTCODE%22%3A%20%22car%22%2C%20%22DESTCODE%22%3A%20%22car%22%2C%20%22DURSEC%22%3A%20%223%22%2C%20%22EPISODEID%22%3A%20%2214640_20070403_17%22%2C%20%22TIMESTART%22%3A%20%2212%3A41%3A52%22%2C%20%22TRACKID%22%3A%20%2215325354%22%7D%2C%20%22geometry%22%3A%20%7B%22type%22%3A%20%22Point%22%2C%20%22coordinates%22%3A%20%5B-63.47644805000001%2C%2044.64597702%5D%7D%7D%2C%20%7B%22id%22%3A%20%22110%22%2C%20%22type%22%3A%20%22Feature%22%2C%20%22properties%22%3A%20%7B%22ACTCODE%22%3A%20%22car%22%2C%20%22DESTCODE%22%3A%20%22car%22%2C%20%22DURSEC%22%3A%20%222%22%2C%20%22EPISODEID%22%3A%20%2214640_20070403_17%22%2C%20%22TIMESTART%22%3A%20%2212%3A41%3A54%22%2C%20%22TRACKID%22%3A%20%2215325355%22%7D%2C%20%22geometry%22%3A%20%7B%22type%22%3A%20%22Point%22%2C%20%22coordinates%22%3A%20%5B-63.47623062%2C%2044.646129600000016%5D%7D%7D%2C%20%7B%22id%22%3A%20%22111%22%2C%20%22type%22%3A%20%22Feature%22%2C%20%22properties%22%3A%20%7B%22ACTCODE%22%3A%20%22car%22%2C%20%22DESTCODE%22%3A%20%22car%22%2C%20%22DURSEC%22%3A%20%223%22%2C%20%22EPISODEID%22%3A%20%2214640_20070403_17%22%2C%20%22TIMESTART%22%3A%20%2212%3A41%3A57%22%2C%20%22TRACKID%22%3A%20%2215325356%22%7D%2C%20%22geometry%22%3A%20%7B%22type%22%3A%20%22Point%22%2C%20%22coordinates%22%3A%20%5B-63.47600936%2C%2044.64628219%5D%7D%7D%2C%20%7B%22id%22%3A%20%22112%22%2C%20%22type%22%3A%20%22Feature%22%2C%20%22properties%22%3A%20%7B%22ACTCODE%22%3A%20%22car%22%2C%20%22DESTCODE%22%3A%20%22car%22%2C%20%22DURSEC%22%3A%20%222%22%2C%20%22EPISODEID%22%3A%20%2214640_20070403_17%22%2C%20%22TIMESTART%22%3A%20%2212%3A41%3A59%22%2C%20%22TRACKID%22%3A%20%2215325357%22%7D%2C%20%22geometry%22%3A%20%7B%22type%22%3A%20%22Point%22%2C%20%22coordinates%22%3A%20%5B-63.47579955999999%2C%2044.64642715%5D%7D%7D%2C%20%7B%22id%22%3A%20%22113%22%2C%20%22type%22%3A%20%22Feature%22%2C%20%22properties%22%3A%20%7B%22ACTCODE%22%3A%20%22car%22%2C%20%22DESTCODE%22%3A%20%22car%22%2C%20%22DURSEC%22%3A%20%223%22%2C%20%22EPISODEID%22%3A%20%2214640_20070403_17%22%2C%20%22TIMESTART%22%3A%20%2212%3A42%3A02%22%2C%20%22TRACKID%22%3A%20%2215325358%22%7D%2C%20%22geometry%22%3A%20%7B%22type%22%3A%20%22Point%22%2C%20%22coordinates%22%3A%20%5B-63.4753189%2C%2044.64672851%5D%7D%7D%2C%20%7B%22id%22%3A%20%22114%22%2C%20%22type%22%3A%20%22Feature%22%2C%20%22properties%22%3A%20%7B%22ACTCODE%22%3A%20%22car%22%2C%20%22DESTCODE%22%3A%20%22car%22%2C%20%22DURSEC%22%3A%20%222%22%2C%20%22EPISODEID%22%3A%20%2214640_20070403_17%22%2C%20%22TIMESTART%22%3A%20%2212%3A42%3A04%22%2C%20%22TRACKID%22%3A%20%2215325359%22%7D%2C%20%22geometry%22%3A%20%7B%22type%22%3A%20%22Point%22%2C%20%22coordinates%22%3A%20%5B-63.47508621000001%2C%2044.64686965%5D%7D%7D%2C%20%7B%22id%22%3A%20%22115%22%2C%20%22type%22%3A%20%22Feature%22%2C%20%22properties%22%3A%20%7B%22ACTCODE%22%3A%20%22car%22%2C%20%22DESTCODE%22%3A%20%22car%22%2C%20%22DURSEC%22%3A%20%223%22%2C%20%22EPISODEID%22%3A%20%2214640_20070403_17%22%2C%20%22TIMESTART%22%3A%20%2212%3A42%3A07%22%2C%20%22TRACKID%22%3A%20%2215325360%22%7D%2C%20%22geometry%22%3A%20%7B%22type%22%3A%20%22Point%22%2C%20%22coordinates%22%3A%20%5B-63.474891660000004%2C%2044.64699172%5D%7D%7D%2C%20%7B%22id%22%3A%20%22116%22%2C%20%22type%22%3A%20%22Feature%22%2C%20%22properties%22%3A%20%7B%22ACTCODE%22%3A%20%22car%22%2C%20%22DESTCODE%22%3A%20%22car%22%2C%20%22DURSEC%22%3A%20%222%22%2C%20%22EPISODEID%22%3A%20%2214640_20070403_17%22%2C%20%22TIMESTART%22%3A%20%2212%3A42%3A09%22%2C%20%22TRACKID%22%3A%20%2215325361%22%7D%2C%20%22geometry%22%3A%20%7B%22type%22%3A%20%22Point%22%2C%20%22coordinates%22%3A%20%5B-63.47475050999999%2C%2044.64707946%5D%7D%7D%2C%20%7B%22id%22%3A%20%22117%22%2C%20%22type%22%3A%20%22Feature%22%2C%20%22properties%22%3A%20%7B%22ACTCODE%22%3A%20%22car%22%2C%20%22DESTCODE%22%3A%20%22car%22%2C%20%22DURSEC%22%3A%20%223%22%2C%20%22EPISODEID%22%3A%20%2214640_20070403_17%22%2C%20%22TIMESTART%22%3A%20%2212%3A42%3A12%22%2C%20%22TRACKID%22%3A%20%2215325362%22%7D%2C%20%22geometry%22%3A%20%7B%22type%22%3A%20%22Point%22%2C%20%22coordinates%22%3A%20%5B-63.474639890000006%2C%2044.6471405%5D%7D%7D%2C%20%7B%22id%22%3A%20%22118%22%2C%20%22type%22%3A%20%22Feature%22%2C%20%22properties%22%3A%20%7B%22ACTCODE%22%3A%20%22car%22%2C%20%22DESTCODE%22%3A%20%22car%22%2C%20%22DURSEC%22%3A%20%222%22%2C%20%22EPISODEID%22%3A%20%2214640_20070403_17%22%2C%20%22TIMESTART%22%3A%20%2212%3A42%3A14%22%2C%20%22TRACKID%22%3A%20%2215325363%22%7D%2C%20%22geometry%22%3A%20%7B%22type%22%3A%20%22Point%22%2C%20%22coordinates%22%3A%20%5B-63.47446059999999%2C%2044.6471672%5D%7D%7D%2C%20%7B%22id%22%3A%20%22119%22%2C%20%22type%22%3A%20%22Feature%22%2C%20%22properties%22%3A%20%7B%22ACTCODE%22%3A%20%22car%22%2C%20%22DESTCODE%22%3A%20%22car%22%2C%20%22DURSEC%22%3A%20%223%22%2C%20%22EPISODEID%22%3A%20%2214640_20070403_17%22%2C%20%22TIMESTART%22%3A%20%2212%3A42%3A17%22%2C%20%22TRACKID%22%3A%20%2215325364%22%7D%2C%20%22geometry%22%3A%20%7B%22type%22%3A%20%22Point%22%2C%20%22coordinates%22%3A%20%5B-63.474445339999995%2C%2044.647125239999994%5D%7D%7D%2C%20%7B%22id%22%3A%20%22120%22%2C%20%22type%22%3A%20%22Feature%22%2C%20%22properties%22%3A%20%7B%22ACTCODE%22%3A%20%22car%22%2C%20%22DESTCODE%22%3A%20%22car%22%2C%20%22DURSEC%22%3A%20%2211%22%2C%20%22EPISODEID%22%3A%20%2214640_20070403_17%22%2C%20%22TIMESTART%22%3A%20%2212%3A34%3A13%22%2C%20%22TRACKID%22%3A%20%2215325184%22%7D%2C%20%22geometry%22%3A%20%7B%22type%22%3A%20%22Point%22%2C%20%22coordinates%22%3A%20%5B-63.47434997%2C%2044.64704513%5D%7D%7D%5D%7D\n"
     ]
    }
   ],
   "source": [
    "#gjsio.display(traj_gjs)\n",
    "# Click the printed url to display the GPS points\n",
    "print(gjsio.make_url(traj_gjs))"
   ]
  },
  {
   "cell_type": "code",
   "execution_count": 28,
   "id": "69765e63",
   "metadata": {},
   "outputs": [],
   "source": [
    "output_route = \"C:/University Grade4/4G06/gert_compiled_v4.3/map-matching_shared_v4.3/data/output/14640_20070403_17_colocated.shp\"\n",
    "output_traj_data = gpd.read_file(output_route)"
   ]
  },
  {
   "cell_type": "code",
   "execution_count": 29,
   "id": "585b6fb7",
   "metadata": {},
   "outputs": [
    {
     "data": {
      "text/html": [
       "<div>\n",
       "<style scoped>\n",
       "    .dataframe tbody tr th:only-of-type {\n",
       "        vertical-align: middle;\n",
       "    }\n",
       "\n",
       "    .dataframe tbody tr th {\n",
       "        vertical-align: top;\n",
       "    }\n",
       "\n",
       "    .dataframe thead th {\n",
       "        text-align: right;\n",
       "    }\n",
       "</style>\n",
       "<table border=\"1\" class=\"dataframe\">\n",
       "  <thead>\n",
       "    <tr style=\"text-align: right;\">\n",
       "      <th></th>\n",
       "      <th>route_name</th>\n",
       "      <th>distance_m</th>\n",
       "      <th>time_min</th>\n",
       "      <th>crowdist_m</th>\n",
       "      <th>traclen_m</th>\n",
       "      <th>num_roads</th>\n",
       "      <th>l_turns</th>\n",
       "      <th>r_turns</th>\n",
       "      <th>sl_turns</th>\n",
       "      <th>sr_turns</th>\n",
       "      <th>t_turns</th>\n",
       "      <th>rdi</th>\n",
       "      <th>crossings</th>\n",
       "      <th>distxing</th>\n",
       "      <th>longleg_nm</th>\n",
       "      <th>longleg_dm</th>\n",
       "      <th>geometry</th>\n",
       "    </tr>\n",
       "  </thead>\n",
       "  <tbody>\n",
       "    <tr>\n",
       "      <th>0</th>\n",
       "      <td>14640_20070403_17_colocated</td>\n",
       "      <td>3279.473234</td>\n",
       "      <td>3.93404</td>\n",
       "      <td>0.820476</td>\n",
       "      <td>3298.203344</td>\n",
       "      <td>7</td>\n",
       "      <td>5</td>\n",
       "      <td>1</td>\n",
       "      <td>1</td>\n",
       "      <td>1</td>\n",
       "      <td>8</td>\n",
       "      <td>3997.04</td>\n",
       "      <td>21</td>\n",
       "      <td>156.165392</td>\n",
       "      <td>CALDWELL RD</td>\n",
       "      <td>875.671</td>\n",
       "      <td>LINESTRING (-63.47446 44.64722, -63.47432 44.6...</td>\n",
       "    </tr>\n",
       "  </tbody>\n",
       "</table>\n",
       "</div>"
      ],
      "text/plain": [
       "                    route_name   distance_m  time_min  crowdist_m  \\\n",
       "0  14640_20070403_17_colocated  3279.473234   3.93404    0.820476   \n",
       "\n",
       "     traclen_m  num_roads  l_turns  r_turns  sl_turns  sr_turns  t_turns  \\\n",
       "0  3298.203344          7        5        1         1         1        8   \n",
       "\n",
       "       rdi  crossings    distxing   longleg_nm  longleg_dm  \\\n",
       "0  3997.04         21  156.165392  CALDWELL RD     875.671   \n",
       "\n",
       "                                            geometry  \n",
       "0  LINESTRING (-63.47446 44.64722, -63.47432 44.6...  "
      ]
     },
     "execution_count": 29,
     "metadata": {},
     "output_type": "execute_result"
    }
   ],
   "source": [
    "output_traj_data"
   ]
  },
  {
   "cell_type": "code",
   "execution_count": 30,
   "id": "296746b7",
   "metadata": {},
   "outputs": [],
   "source": [
    "output_traj_data.to_file('output_traj.geojson', driver='GeoJSON')\n",
    "output_traj_gjs = gpd.read_file('output_traj.geojson')\n",
    "#output_traj_gjs = output_traj_data.to_json()\n",
    "output_traj_gjs = output_traj_gjs.to_json()\n",
    "#print(output_traj_gjs)"
   ]
  },
  {
   "cell_type": "code",
   "execution_count": 31,
   "id": "4535fb52",
   "metadata": {
    "scrolled": true
   },
   "outputs": [
    {
     "name": "stdout",
     "output_type": "stream",
     "text": [
      "http://geojson.io/#data=data:application/json,%7B%22type%22%3A%20%22FeatureCollection%22%2C%20%22features%22%3A%20%5B%7B%22id%22%3A%20%220%22%2C%20%22type%22%3A%20%22Feature%22%2C%20%22properties%22%3A%20%7B%22crossings%22%3A%2021%2C%20%22crowdist_m%22%3A%200.820476417724%2C%20%22distance_m%22%3A%203279.473234%2C%20%22distxing%22%3A%20156.165392095%2C%20%22l_turns%22%3A%205%2C%20%22longleg_dm%22%3A%20875.671%2C%20%22longleg_nm%22%3A%20%22CALDWELL%20RD%22%2C%20%22num_roads%22%3A%207%2C%20%22r_turns%22%3A%201%2C%20%22rdi%22%3A%203997.04%2C%20%22route_name%22%3A%20%2214640_20070403_17_colocated%22%2C%20%22sl_turns%22%3A%201%2C%20%22sr_turns%22%3A%201%2C%20%22t_turns%22%3A%208%2C%20%22time_min%22%3A%203.93404%2C%20%22traclen_m%22%3A%203298.20334412%7D%2C%20%22geometry%22%3A%20%7B%22type%22%3A%20%22LineString%22%2C%20%22coordinates%22%3A%20%5B%5B-63.474462580999955%2C%2044.64722483800006%5D%2C%20%5B-63.474321%2C%2044.647322%5D%2C%20%5B-63.474444%2C%2044.64734%5D%2C%20%5B-63.474523%2C%2044.647379%5D%2C%20%5B-63.47507%2C%2044.647663%5D%2C%20%5B-63.475185%2C%2044.647685%5D%2C%20%5B-63.475177%2C%2044.64783%5D%2C%20%5B-63.475913%2C%2044.648288%5D%2C%20%5B-63.474847%2C%2044.649031%5D%2C%20%5B-63.473847%2C%2044.650052%5D%2C%20%5B-63.475102%2C%2044.650839%5D%2C%20%5B-63.476407%2C%2044.65159%5D%2C%20%5B-63.477801%2C%2044.652394%5D%2C%20%5B-63.478752%2C%2044.653029%5D%2C%20%5B-63.479691%2C%2044.653773%5D%2C%20%5B-63.479958%2C%2044.654015%5D%2C%20%5B-63.480943%2C%2044.655094%5D%2C%20%5B-63.481543%2C%2044.654559%5D%2C%20%5B-63.482633%2C%2044.653557%5D%2C%20%5B-63.483448%2C%2044.652801%5D%2C%20%5B-63.483502%2C%2044.652754%5D%2C%20%5B-63.484381%2C%2044.651942%5D%2C%20%5B-63.484446%2C%2044.651886%5D%2C%20%5B-63.484497%2C%2044.651845%5D%2C%20%5B-63.484545%2C%2044.651807%5D%2C%20%5B-63.484601%2C%2044.651774%5D%2C%20%5B-63.484662%2C%2044.65174%5D%2C%20%5B-63.484799%2C%2044.651674%5D%2C%20%5B-63.484955%2C%2044.651607%5D%2C%20%5B-63.485506%2C%2044.651386%5D%2C%20%5B-63.485271%2C%2044.651078%5D%2C%20%5B-63.485139%2C%2044.650918%5D%2C%20%5B-63.485069%2C%2044.650845%5D%2C%20%5B-63.485012%2C%2044.650786%5D%2C%20%5B-63.484947%2C%2044.650725%5D%2C%20%5B-63.484849%2C%2044.650631%5D%2C%20%5B-63.484729%2C%2044.650524%5D%2C%20%5B-63.48447%2C%2044.650311%5D%2C%20%5B-63.4843%2C%2044.650179%5D%2C%20%5B-63.483908%2C%2044.649875%5D%2C%20%5B-63.483796%2C%2044.64979%5D%2C%20%5B-63.483692%2C%2044.649705%5D%2C%20%5B-63.483595%2C%2044.64962%5D%2C%20%5B-63.483506%2C%2044.649533%5D%2C%20%5B-63.483425%2C%2044.649447%5D%2C%20%5B-63.48335%2C%2044.64936%5D%2C%20%5B-63.483284%2C%2044.649272%5D%2C%20%5B-63.483225%2C%2044.649184%5D%2C%20%5B-63.483136%2C%2044.649033%5D%2C%20%5B-63.48308%2C%2044.648918%5D%2C%20%5B-63.483002%2C%2044.648755%5D%2C%20%5B-63.482625%2C%2044.647919%5D%2C%20%5B-63.482529%2C%2044.647724%5D%2C%20%5B-63.482442%2C%2044.647547%5D%2C%20%5B-63.482347%2C%2044.647381%5D%2C%20%5B-63.48231%2C%2044.647322%5D%2C%20%5B-63.482241%2C%2044.647227%5D%2C%20%5B-63.482164%2C%2044.647134%5D%2C%20%5B-63.482088%2C%2044.647048%5D%2C%20%5B-63.482053%2C%2044.64701%5D%2C%20%5B-63.481991%2C%2044.646947%5D%2C%20%5B-63.48192%2C%2044.646881%5D%2C%20%5B-63.48184%2C%2044.646817%5D%2C%20%5B-63.48158%2C%2044.646617%5D%2C%20%5B-63.481016%2C%2044.646232%5D%2C%20%5B-63.480277%2C%2044.645326%5D%2C%20%5B-63.480184%2C%2044.64466%5D%2C%20%5B-63.478985%2C%2044.644638%5D%2C%20%5B-63.478442%2C%2044.644541%5D%2C%20%5B-63.477924%2C%2044.64439%5D%2C%20%5B-63.47745%2C%2044.645032%5D%2C%20%5B-63.4769629999999%2C%2044.645574%5D%2C%20%5B-63.476787%2C%2044.645719%5D%2C%20%5B-63.476612%2C%2044.645809%5D%2C%20%5B-63.476498%2C%2044.645828%5D%2C%20%5B-63.474469865999936%2C%2044.64721983800007%5D%5D%7D%7D%5D%7D\n"
     ]
    }
   ],
   "source": [
    "print(gjsio.make_url(output_traj_gjs))"
   ]
  },
  {
   "cell_type": "markdown",
   "id": "3b83bc40",
   "metadata": {},
   "source": [
    "Prototype code of converting CSV file to Shapefile"
   ]
  },
  {
   "cell_type": "code",
   "execution_count": 32,
   "id": "d0ad4203",
   "metadata": {},
   "outputs": [
    {
     "data": {
      "text/html": [
       "<div>\n",
       "<style scoped>\n",
       "    .dataframe tbody tr th:only-of-type {\n",
       "        vertical-align: middle;\n",
       "    }\n",
       "\n",
       "    .dataframe tbody tr th {\n",
       "        vertical-align: top;\n",
       "    }\n",
       "\n",
       "    .dataframe thead th {\n",
       "        text-align: right;\n",
       "    }\n",
       "</style>\n",
       "<table border=\"1\" class=\"dataframe\">\n",
       "  <thead>\n",
       "    <tr style=\"text-align: right;\">\n",
       "      <th></th>\n",
       "      <th>RecordID</th>\n",
       "      <th>SerialID</th>\n",
       "      <th>LocalTime</th>\n",
       "      <th>latitude</th>\n",
       "      <th>longitude</th>\n",
       "      <th>Fix_Status</th>\n",
       "      <th>DOP</th>\n",
       "      <th>Speed_kmh</th>\n",
       "      <th>Limit_kmh</th>\n",
       "    </tr>\n",
       "  </thead>\n",
       "  <tbody>\n",
       "    <tr>\n",
       "      <th>0</th>\n",
       "      <td>5685</td>\n",
       "      <td>26</td>\n",
       "      <td>9/3/2009 11:57</td>\n",
       "      <td>43.337420</td>\n",
       "      <td>-79.790290</td>\n",
       "      <td>3D Fix</td>\n",
       "      <td>0.5</td>\n",
       "      <td>0.0</td>\n",
       "      <td>50</td>\n",
       "    </tr>\n",
       "    <tr>\n",
       "      <th>1</th>\n",
       "      <td>5686</td>\n",
       "      <td>26</td>\n",
       "      <td>9/3/2009 11:57</td>\n",
       "      <td>43.337422</td>\n",
       "      <td>-79.790290</td>\n",
       "      <td>3D Fix</td>\n",
       "      <td>0.5</td>\n",
       "      <td>0.0</td>\n",
       "      <td>50</td>\n",
       "    </tr>\n",
       "    <tr>\n",
       "      <th>2</th>\n",
       "      <td>5687</td>\n",
       "      <td>26</td>\n",
       "      <td>9/3/2009 11:57</td>\n",
       "      <td>43.337420</td>\n",
       "      <td>-79.790288</td>\n",
       "      <td>3D Fix</td>\n",
       "      <td>0.5</td>\n",
       "      <td>0.0</td>\n",
       "      <td>50</td>\n",
       "    </tr>\n",
       "    <tr>\n",
       "      <th>3</th>\n",
       "      <td>5688</td>\n",
       "      <td>26</td>\n",
       "      <td>9/3/2009 11:57</td>\n",
       "      <td>43.337418</td>\n",
       "      <td>-79.790283</td>\n",
       "      <td>3D Fix</td>\n",
       "      <td>0.5</td>\n",
       "      <td>2.2</td>\n",
       "      <td>50</td>\n",
       "    </tr>\n",
       "    <tr>\n",
       "      <th>4</th>\n",
       "      <td>5689</td>\n",
       "      <td>26</td>\n",
       "      <td>9/3/2009 11:57</td>\n",
       "      <td>43.337410</td>\n",
       "      <td>-79.790272</td>\n",
       "      <td>3D Fix</td>\n",
       "      <td>0.5</td>\n",
       "      <td>5.9</td>\n",
       "      <td>50</td>\n",
       "    </tr>\n",
       "  </tbody>\n",
       "</table>\n",
       "</div>"
      ],
      "text/plain": [
       "   RecordID  SerialID       LocalTime   latitude  longitude Fix_Status  DOP  \\\n",
       "0      5685        26  9/3/2009 11:57  43.337420 -79.790290     3D Fix  0.5   \n",
       "1      5686        26  9/3/2009 11:57  43.337422 -79.790290     3D Fix  0.5   \n",
       "2      5687        26  9/3/2009 11:57  43.337420 -79.790288     3D Fix  0.5   \n",
       "3      5688        26  9/3/2009 11:57  43.337418 -79.790283     3D Fix  0.5   \n",
       "4      5689        26  9/3/2009 11:57  43.337410 -79.790272     3D Fix  0.5   \n",
       "\n",
       "   Speed_kmh  Limit_kmh  \n",
       "0        0.0         50  \n",
       "1        0.0         50  \n",
       "2        0.0         50  \n",
       "3        2.2         50  \n",
       "4        5.9         50  "
      ]
     },
     "execution_count": 32,
     "metadata": {},
     "output_type": "execute_result"
    }
   ],
   "source": [
    "# Read CSV file with Pandas to generate dataframe\n",
    "csv_path = 'C:/University Grade4/4G06/PyERT-BLACK/quarto-example/data/sample-gps/sample-gps-1.csv'\n",
    "gps_df = pd.read_csv(csv_path)\n",
    "gps_df.head()"
   ]
  },
  {
   "cell_type": "code",
   "execution_count": 33,
   "id": "54981159",
   "metadata": {},
   "outputs": [
    {
     "name": "stderr",
     "output_type": "stream",
     "text": [
      "C:\\Users\\jimta\\anaconda3\\envs\\geopandas_env\\lib\\site-packages\\geopandas\\array.py:275: ShapelyDeprecationWarning: The array interface is deprecated and will no longer work in Shapely 2.0. Convert the '.coords' to a numpy array instead.\n",
      "  return GeometryArray(vectorized.points_from_xy(x, y, z), crs=crs)\n"
     ]
    },
    {
     "data": {
      "text/html": [
       "<div>\n",
       "<style scoped>\n",
       "    .dataframe tbody tr th:only-of-type {\n",
       "        vertical-align: middle;\n",
       "    }\n",
       "\n",
       "    .dataframe tbody tr th {\n",
       "        vertical-align: top;\n",
       "    }\n",
       "\n",
       "    .dataframe thead th {\n",
       "        text-align: right;\n",
       "    }\n",
       "</style>\n",
       "<table border=\"1\" class=\"dataframe\">\n",
       "  <thead>\n",
       "    <tr style=\"text-align: right;\">\n",
       "      <th></th>\n",
       "      <th>RecordID</th>\n",
       "      <th>SerialID</th>\n",
       "      <th>LocalTime</th>\n",
       "      <th>latitude</th>\n",
       "      <th>longitude</th>\n",
       "      <th>Fix_Status</th>\n",
       "      <th>DOP</th>\n",
       "      <th>Speed_kmh</th>\n",
       "      <th>Limit_kmh</th>\n",
       "      <th>geometry</th>\n",
       "    </tr>\n",
       "  </thead>\n",
       "  <tbody>\n",
       "    <tr>\n",
       "      <th>0</th>\n",
       "      <td>5685</td>\n",
       "      <td>26</td>\n",
       "      <td>9/3/2009 11:57</td>\n",
       "      <td>43.337420</td>\n",
       "      <td>-79.790290</td>\n",
       "      <td>3D Fix</td>\n",
       "      <td>0.5</td>\n",
       "      <td>0.0</td>\n",
       "      <td>50</td>\n",
       "      <td>POINT (-79.79029 43.33742)</td>\n",
       "    </tr>\n",
       "    <tr>\n",
       "      <th>1</th>\n",
       "      <td>5686</td>\n",
       "      <td>26</td>\n",
       "      <td>9/3/2009 11:57</td>\n",
       "      <td>43.337422</td>\n",
       "      <td>-79.790290</td>\n",
       "      <td>3D Fix</td>\n",
       "      <td>0.5</td>\n",
       "      <td>0.0</td>\n",
       "      <td>50</td>\n",
       "      <td>POINT (-79.79029 43.33742)</td>\n",
       "    </tr>\n",
       "    <tr>\n",
       "      <th>2</th>\n",
       "      <td>5687</td>\n",
       "      <td>26</td>\n",
       "      <td>9/3/2009 11:57</td>\n",
       "      <td>43.337420</td>\n",
       "      <td>-79.790288</td>\n",
       "      <td>3D Fix</td>\n",
       "      <td>0.5</td>\n",
       "      <td>0.0</td>\n",
       "      <td>50</td>\n",
       "      <td>POINT (-79.79029 43.33742)</td>\n",
       "    </tr>\n",
       "    <tr>\n",
       "      <th>3</th>\n",
       "      <td>5688</td>\n",
       "      <td>26</td>\n",
       "      <td>9/3/2009 11:57</td>\n",
       "      <td>43.337418</td>\n",
       "      <td>-79.790283</td>\n",
       "      <td>3D Fix</td>\n",
       "      <td>0.5</td>\n",
       "      <td>2.2</td>\n",
       "      <td>50</td>\n",
       "      <td>POINT (-79.79028 43.33742)</td>\n",
       "    </tr>\n",
       "    <tr>\n",
       "      <th>4</th>\n",
       "      <td>5689</td>\n",
       "      <td>26</td>\n",
       "      <td>9/3/2009 11:57</td>\n",
       "      <td>43.337410</td>\n",
       "      <td>-79.790272</td>\n",
       "      <td>3D Fix</td>\n",
       "      <td>0.5</td>\n",
       "      <td>5.9</td>\n",
       "      <td>50</td>\n",
       "      <td>POINT (-79.79027 43.33741)</td>\n",
       "    </tr>\n",
       "  </tbody>\n",
       "</table>\n",
       "</div>"
      ],
      "text/plain": [
       "   RecordID  SerialID       LocalTime   latitude  longitude Fix_Status  DOP  \\\n",
       "0      5685        26  9/3/2009 11:57  43.337420 -79.790290     3D Fix  0.5   \n",
       "1      5686        26  9/3/2009 11:57  43.337422 -79.790290     3D Fix  0.5   \n",
       "2      5687        26  9/3/2009 11:57  43.337420 -79.790288     3D Fix  0.5   \n",
       "3      5688        26  9/3/2009 11:57  43.337418 -79.790283     3D Fix  0.5   \n",
       "4      5689        26  9/3/2009 11:57  43.337410 -79.790272     3D Fix  0.5   \n",
       "\n",
       "   Speed_kmh  Limit_kmh                    geometry  \n",
       "0        0.0         50  POINT (-79.79029 43.33742)  \n",
       "1        0.0         50  POINT (-79.79029 43.33742)  \n",
       "2        0.0         50  POINT (-79.79029 43.33742)  \n",
       "3        2.2         50  POINT (-79.79028 43.33742)  \n",
       "4        5.9         50  POINT (-79.79027 43.33741)  "
      ]
     },
     "execution_count": 33,
     "metadata": {},
     "output_type": "execute_result"
    }
   ],
   "source": [
    "# Transfer dataframe to geodataframe for geopandas\n",
    "gps_gdf = gpd.GeoDataFrame(gps_df, geometry = gpd.points_from_xy(gps_df['longitude'], gps_df['latitude']))\n",
    "gps_gdf.head()"
   ]
  },
  {
   "cell_type": "code",
   "execution_count": 34,
   "id": "3b95c755",
   "metadata": {},
   "outputs": [],
   "source": [
    "# Set CRS to geodataframe and generate shapefile\n",
    "gps_gdf = gps_gdf.set_crs('epsg:4326')\n",
    "gps_gdf.to_file(filename='sample_gps_1', driver = 'ESRI Shapefile')"
   ]
  },
  {
   "cell_type": "code",
   "execution_count": 35,
   "id": "2ad1f974",
   "metadata": {},
   "outputs": [
    {
     "data": {
      "text/plain": [
       "<Geographic 2D CRS: EPSG:4326>\n",
       "Name: WGS 84\n",
       "Axis Info [ellipsoidal]:\n",
       "- Lat[north]: Geodetic latitude (degree)\n",
       "- Lon[east]: Geodetic longitude (degree)\n",
       "Area of Use:\n",
       "- name: World\n",
       "- bounds: (-180.0, -90.0, 180.0, 90.0)\n",
       "Datum: World Geodetic System 1984\n",
       "- Ellipsoid: WGS 84\n",
       "- Prime Meridian: Greenwich"
      ]
     },
     "execution_count": 35,
     "metadata": {},
     "output_type": "execute_result"
    }
   ],
   "source": [
    "gps_gdf.crs"
   ]
  },
  {
   "cell_type": "code",
   "execution_count": 36,
   "id": "96bf049f",
   "metadata": {},
   "outputs": [
    {
     "data": {
      "text/plain": [
       "<AxesSubplot:>"
      ]
     },
     "execution_count": 36,
     "metadata": {},
     "output_type": "execute_result"
    },
    {
     "data": {
      "image/png": "[encoded data removed]",
      "text/plain": [
       "<Figure size 640x480 with 1 Axes>"
      ]
     },
     "metadata": {},
     "output_type": "display_data"
    }
   ],
   "source": [
    "gps_gdf.plot()"
   ]
  },
  {
   "cell_type": "code",
   "execution_count": 37,
   "id": "d40cdbe0",
   "metadata": {},
   "outputs": [],
   "source": [
    "#from IPython.display import HTML \n",
    "#text = 'click this'\n",
    "#HTML(f'<a href=\"{gjsio.make_url(gdb_df.to_json())}\">{text}</a>')"
   ]
  },
  {
   "cell_type": "code",
   "execution_count": null,
   "id": "85412440",
   "metadata": {},
   "outputs": [],
   "source": []
  }
 ],
 "metadata": {
  "kernelspec": {
   "display_name": "Python 3 (ipykernel)",
   "language": "python",
   "name": "python3"
  },
  "language_info": {
   "codemirror_mode": {
    "name": "ipython",
    "version": 3
   },
   "file_extension": ".py",
   "mimetype": "text/x-python",
   "name": "python",
   "nbconvert_exporter": "python",
   "pygments_lexer": "ipython3",
   "version": "3.7.15"
  }
 },
 "nbformat": 4,
 "nbformat_minor": 5
}
